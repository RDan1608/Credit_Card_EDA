{
 "cells": [
  {
   "cell_type": "code",
   "execution_count": 3150,
   "id": "db4d04c2-c4f6-4d98-812f-5b269f83ce4a",
   "metadata": {},
   "outputs": [],
   "source": [
    "import pandas as pd\n",
    "import numpy as np\n"
   ]
  },
  {
   "cell_type": "code",
   "execution_count": 3151,
   "id": "4a09c852-dd87-4252-8823-91a1438f27e5",
   "metadata": {},
   "outputs": [],
   "source": [
    "import matplotlib.pyplot as plt\n",
    "import seaborn as sns"
   ]
  },
  {
   "cell_type": "code",
   "execution_count": 3152,
   "id": "0dbf1f80-2d99-4628-a4b9-2a260d2178cc",
   "metadata": {},
   "outputs": [],
   "source": [
    "dfbank = pd.read_csv(\"BankChurners.csv\")"
   ]
  },
  {
   "cell_type": "code",
   "execution_count": 3153,
   "id": "287e8c29-a778-4f98-9aa1-66e1455e1e09",
   "metadata": {},
   "outputs": [
    {
     "data": {
      "text/html": [
       "<div>\n",
       "<style scoped>\n",
       "    .dataframe tbody tr th:only-of-type {\n",
       "        vertical-align: middle;\n",
       "    }\n",
       "\n",
       "    .dataframe tbody tr th {\n",
       "        vertical-align: top;\n",
       "    }\n",
       "\n",
       "    .dataframe thead th {\n",
       "        text-align: right;\n",
       "    }\n",
       "</style>\n",
       "<table border=\"1\" class=\"dataframe\">\n",
       "  <thead>\n",
       "    <tr style=\"text-align: right;\">\n",
       "      <th></th>\n",
       "      <th>CLIENTNUM</th>\n",
       "      <th>Attrition_Flag</th>\n",
       "      <th>Customer_Age</th>\n",
       "      <th>Gender</th>\n",
       "      <th>Dependent_count</th>\n",
       "      <th>Education_Level</th>\n",
       "      <th>Marital_Status</th>\n",
       "      <th>Income_Category</th>\n",
       "      <th>Card_Category</th>\n",
       "      <th>Months_on_book</th>\n",
       "      <th>...</th>\n",
       "      <th>Credit_Limit</th>\n",
       "      <th>Total_Revolving_Bal</th>\n",
       "      <th>Avg_Open_To_Buy</th>\n",
       "      <th>Total_Amt_Chng_Q4_Q1</th>\n",
       "      <th>Total_Trans_Amt</th>\n",
       "      <th>Total_Trans_Ct</th>\n",
       "      <th>Total_Ct_Chng_Q4_Q1</th>\n",
       "      <th>Avg_Utilization_Ratio</th>\n",
       "      <th>Naive_Bayes_Classifier_Attrition_Flag_Card_Category_Contacts_Count_12_mon_Dependent_count_Education_Level_Months_Inactive_12_mon_1</th>\n",
       "      <th>Naive_Bayes_Classifier_Attrition_Flag_Card_Category_Contacts_Count_12_mon_Dependent_count_Education_Level_Months_Inactive_12_mon_2</th>\n",
       "    </tr>\n",
       "  </thead>\n",
       "  <tbody>\n",
       "    <tr>\n",
       "      <th>0</th>\n",
       "      <td>768805383</td>\n",
       "      <td>Existing Customer</td>\n",
       "      <td>45</td>\n",
       "      <td>M</td>\n",
       "      <td>3</td>\n",
       "      <td>High School</td>\n",
       "      <td>Married</td>\n",
       "      <td>$60K - $80K</td>\n",
       "      <td>Blue</td>\n",
       "      <td>39</td>\n",
       "      <td>...</td>\n",
       "      <td>12691.0</td>\n",
       "      <td>777</td>\n",
       "      <td>11914.0</td>\n",
       "      <td>1.335</td>\n",
       "      <td>1144</td>\n",
       "      <td>42</td>\n",
       "      <td>1.625</td>\n",
       "      <td>0.061</td>\n",
       "      <td>0.000093</td>\n",
       "      <td>0.999910</td>\n",
       "    </tr>\n",
       "    <tr>\n",
       "      <th>1</th>\n",
       "      <td>818770008</td>\n",
       "      <td>Existing Customer</td>\n",
       "      <td>49</td>\n",
       "      <td>F</td>\n",
       "      <td>5</td>\n",
       "      <td>Graduate</td>\n",
       "      <td>Single</td>\n",
       "      <td>Less than $40K</td>\n",
       "      <td>Blue</td>\n",
       "      <td>44</td>\n",
       "      <td>...</td>\n",
       "      <td>8256.0</td>\n",
       "      <td>864</td>\n",
       "      <td>7392.0</td>\n",
       "      <td>1.541</td>\n",
       "      <td>1291</td>\n",
       "      <td>33</td>\n",
       "      <td>3.714</td>\n",
       "      <td>0.105</td>\n",
       "      <td>0.000057</td>\n",
       "      <td>0.999940</td>\n",
       "    </tr>\n",
       "    <tr>\n",
       "      <th>2</th>\n",
       "      <td>713982108</td>\n",
       "      <td>Existing Customer</td>\n",
       "      <td>51</td>\n",
       "      <td>M</td>\n",
       "      <td>3</td>\n",
       "      <td>Graduate</td>\n",
       "      <td>Married</td>\n",
       "      <td>$80K - $120K</td>\n",
       "      <td>Blue</td>\n",
       "      <td>36</td>\n",
       "      <td>...</td>\n",
       "      <td>3418.0</td>\n",
       "      <td>0</td>\n",
       "      <td>3418.0</td>\n",
       "      <td>2.594</td>\n",
       "      <td>1887</td>\n",
       "      <td>20</td>\n",
       "      <td>2.333</td>\n",
       "      <td>0.000</td>\n",
       "      <td>0.000021</td>\n",
       "      <td>0.999980</td>\n",
       "    </tr>\n",
       "    <tr>\n",
       "      <th>3</th>\n",
       "      <td>769911858</td>\n",
       "      <td>Existing Customer</td>\n",
       "      <td>40</td>\n",
       "      <td>F</td>\n",
       "      <td>4</td>\n",
       "      <td>High School</td>\n",
       "      <td>Unknown</td>\n",
       "      <td>Less than $40K</td>\n",
       "      <td>Blue</td>\n",
       "      <td>34</td>\n",
       "      <td>...</td>\n",
       "      <td>3313.0</td>\n",
       "      <td>2517</td>\n",
       "      <td>796.0</td>\n",
       "      <td>1.405</td>\n",
       "      <td>1171</td>\n",
       "      <td>20</td>\n",
       "      <td>2.333</td>\n",
       "      <td>0.760</td>\n",
       "      <td>0.000134</td>\n",
       "      <td>0.999870</td>\n",
       "    </tr>\n",
       "    <tr>\n",
       "      <th>4</th>\n",
       "      <td>709106358</td>\n",
       "      <td>Existing Customer</td>\n",
       "      <td>40</td>\n",
       "      <td>M</td>\n",
       "      <td>3</td>\n",
       "      <td>Uneducated</td>\n",
       "      <td>Married</td>\n",
       "      <td>$60K - $80K</td>\n",
       "      <td>Blue</td>\n",
       "      <td>21</td>\n",
       "      <td>...</td>\n",
       "      <td>4716.0</td>\n",
       "      <td>0</td>\n",
       "      <td>4716.0</td>\n",
       "      <td>2.175</td>\n",
       "      <td>816</td>\n",
       "      <td>28</td>\n",
       "      <td>2.500</td>\n",
       "      <td>0.000</td>\n",
       "      <td>0.000022</td>\n",
       "      <td>0.999980</td>\n",
       "    </tr>\n",
       "    <tr>\n",
       "      <th>...</th>\n",
       "      <td>...</td>\n",
       "      <td>...</td>\n",
       "      <td>...</td>\n",
       "      <td>...</td>\n",
       "      <td>...</td>\n",
       "      <td>...</td>\n",
       "      <td>...</td>\n",
       "      <td>...</td>\n",
       "      <td>...</td>\n",
       "      <td>...</td>\n",
       "      <td>...</td>\n",
       "      <td>...</td>\n",
       "      <td>...</td>\n",
       "      <td>...</td>\n",
       "      <td>...</td>\n",
       "      <td>...</td>\n",
       "      <td>...</td>\n",
       "      <td>...</td>\n",
       "      <td>...</td>\n",
       "      <td>...</td>\n",
       "      <td>...</td>\n",
       "    </tr>\n",
       "    <tr>\n",
       "      <th>10122</th>\n",
       "      <td>772366833</td>\n",
       "      <td>Existing Customer</td>\n",
       "      <td>50</td>\n",
       "      <td>M</td>\n",
       "      <td>2</td>\n",
       "      <td>Graduate</td>\n",
       "      <td>Single</td>\n",
       "      <td>$40K - $60K</td>\n",
       "      <td>Blue</td>\n",
       "      <td>40</td>\n",
       "      <td>...</td>\n",
       "      <td>4003.0</td>\n",
       "      <td>1851</td>\n",
       "      <td>2152.0</td>\n",
       "      <td>0.703</td>\n",
       "      <td>15476</td>\n",
       "      <td>117</td>\n",
       "      <td>0.857</td>\n",
       "      <td>0.462</td>\n",
       "      <td>0.000191</td>\n",
       "      <td>0.999810</td>\n",
       "    </tr>\n",
       "    <tr>\n",
       "      <th>10123</th>\n",
       "      <td>710638233</td>\n",
       "      <td>Attrited Customer</td>\n",
       "      <td>41</td>\n",
       "      <td>M</td>\n",
       "      <td>2</td>\n",
       "      <td>Unknown</td>\n",
       "      <td>Divorced</td>\n",
       "      <td>$40K - $60K</td>\n",
       "      <td>Blue</td>\n",
       "      <td>25</td>\n",
       "      <td>...</td>\n",
       "      <td>4277.0</td>\n",
       "      <td>2186</td>\n",
       "      <td>2091.0</td>\n",
       "      <td>0.804</td>\n",
       "      <td>8764</td>\n",
       "      <td>69</td>\n",
       "      <td>0.683</td>\n",
       "      <td>0.511</td>\n",
       "      <td>0.995270</td>\n",
       "      <td>0.004729</td>\n",
       "    </tr>\n",
       "    <tr>\n",
       "      <th>10124</th>\n",
       "      <td>716506083</td>\n",
       "      <td>Attrited Customer</td>\n",
       "      <td>44</td>\n",
       "      <td>F</td>\n",
       "      <td>1</td>\n",
       "      <td>High School</td>\n",
       "      <td>Married</td>\n",
       "      <td>Less than $40K</td>\n",
       "      <td>Blue</td>\n",
       "      <td>36</td>\n",
       "      <td>...</td>\n",
       "      <td>5409.0</td>\n",
       "      <td>0</td>\n",
       "      <td>5409.0</td>\n",
       "      <td>0.819</td>\n",
       "      <td>10291</td>\n",
       "      <td>60</td>\n",
       "      <td>0.818</td>\n",
       "      <td>0.000</td>\n",
       "      <td>0.997880</td>\n",
       "      <td>0.002118</td>\n",
       "    </tr>\n",
       "    <tr>\n",
       "      <th>10125</th>\n",
       "      <td>717406983</td>\n",
       "      <td>Attrited Customer</td>\n",
       "      <td>30</td>\n",
       "      <td>M</td>\n",
       "      <td>2</td>\n",
       "      <td>Graduate</td>\n",
       "      <td>Unknown</td>\n",
       "      <td>$40K - $60K</td>\n",
       "      <td>Blue</td>\n",
       "      <td>36</td>\n",
       "      <td>...</td>\n",
       "      <td>5281.0</td>\n",
       "      <td>0</td>\n",
       "      <td>5281.0</td>\n",
       "      <td>0.535</td>\n",
       "      <td>8395</td>\n",
       "      <td>62</td>\n",
       "      <td>0.722</td>\n",
       "      <td>0.000</td>\n",
       "      <td>0.996710</td>\n",
       "      <td>0.003294</td>\n",
       "    </tr>\n",
       "    <tr>\n",
       "      <th>10126</th>\n",
       "      <td>714337233</td>\n",
       "      <td>Attrited Customer</td>\n",
       "      <td>43</td>\n",
       "      <td>F</td>\n",
       "      <td>2</td>\n",
       "      <td>Graduate</td>\n",
       "      <td>Married</td>\n",
       "      <td>Less than $40K</td>\n",
       "      <td>Silver</td>\n",
       "      <td>25</td>\n",
       "      <td>...</td>\n",
       "      <td>10388.0</td>\n",
       "      <td>1961</td>\n",
       "      <td>8427.0</td>\n",
       "      <td>0.703</td>\n",
       "      <td>10294</td>\n",
       "      <td>61</td>\n",
       "      <td>0.649</td>\n",
       "      <td>0.189</td>\n",
       "      <td>0.996620</td>\n",
       "      <td>0.003377</td>\n",
       "    </tr>\n",
       "  </tbody>\n",
       "</table>\n",
       "<p>10127 rows × 23 columns</p>\n",
       "</div>"
      ],
      "text/plain": [
       "       CLIENTNUM     Attrition_Flag  Customer_Age Gender  Dependent_count  \\\n",
       "0      768805383  Existing Customer            45      M                3   \n",
       "1      818770008  Existing Customer            49      F                5   \n",
       "2      713982108  Existing Customer            51      M                3   \n",
       "3      769911858  Existing Customer            40      F                4   \n",
       "4      709106358  Existing Customer            40      M                3   \n",
       "...          ...                ...           ...    ...              ...   \n",
       "10122  772366833  Existing Customer            50      M                2   \n",
       "10123  710638233  Attrited Customer            41      M                2   \n",
       "10124  716506083  Attrited Customer            44      F                1   \n",
       "10125  717406983  Attrited Customer            30      M                2   \n",
       "10126  714337233  Attrited Customer            43      F                2   \n",
       "\n",
       "      Education_Level Marital_Status Income_Category Card_Category  \\\n",
       "0         High School        Married     $60K - $80K          Blue   \n",
       "1            Graduate         Single  Less than $40K          Blue   \n",
       "2            Graduate        Married    $80K - $120K          Blue   \n",
       "3         High School        Unknown  Less than $40K          Blue   \n",
       "4          Uneducated        Married     $60K - $80K          Blue   \n",
       "...               ...            ...             ...           ...   \n",
       "10122        Graduate         Single     $40K - $60K          Blue   \n",
       "10123         Unknown       Divorced     $40K - $60K          Blue   \n",
       "10124     High School        Married  Less than $40K          Blue   \n",
       "10125        Graduate        Unknown     $40K - $60K          Blue   \n",
       "10126        Graduate        Married  Less than $40K        Silver   \n",
       "\n",
       "       Months_on_book  ...  Credit_Limit  Total_Revolving_Bal  \\\n",
       "0                  39  ...       12691.0                  777   \n",
       "1                  44  ...        8256.0                  864   \n",
       "2                  36  ...        3418.0                    0   \n",
       "3                  34  ...        3313.0                 2517   \n",
       "4                  21  ...        4716.0                    0   \n",
       "...               ...  ...           ...                  ...   \n",
       "10122              40  ...        4003.0                 1851   \n",
       "10123              25  ...        4277.0                 2186   \n",
       "10124              36  ...        5409.0                    0   \n",
       "10125              36  ...        5281.0                    0   \n",
       "10126              25  ...       10388.0                 1961   \n",
       "\n",
       "       Avg_Open_To_Buy  Total_Amt_Chng_Q4_Q1  Total_Trans_Amt  Total_Trans_Ct  \\\n",
       "0              11914.0                 1.335             1144              42   \n",
       "1               7392.0                 1.541             1291              33   \n",
       "2               3418.0                 2.594             1887              20   \n",
       "3                796.0                 1.405             1171              20   \n",
       "4               4716.0                 2.175              816              28   \n",
       "...                ...                   ...              ...             ...   \n",
       "10122           2152.0                 0.703            15476             117   \n",
       "10123           2091.0                 0.804             8764              69   \n",
       "10124           5409.0                 0.819            10291              60   \n",
       "10125           5281.0                 0.535             8395              62   \n",
       "10126           8427.0                 0.703            10294              61   \n",
       "\n",
       "       Total_Ct_Chng_Q4_Q1  Avg_Utilization_Ratio  \\\n",
       "0                    1.625                  0.061   \n",
       "1                    3.714                  0.105   \n",
       "2                    2.333                  0.000   \n",
       "3                    2.333                  0.760   \n",
       "4                    2.500                  0.000   \n",
       "...                    ...                    ...   \n",
       "10122                0.857                  0.462   \n",
       "10123                0.683                  0.511   \n",
       "10124                0.818                  0.000   \n",
       "10125                0.722                  0.000   \n",
       "10126                0.649                  0.189   \n",
       "\n",
       "       Naive_Bayes_Classifier_Attrition_Flag_Card_Category_Contacts_Count_12_mon_Dependent_count_Education_Level_Months_Inactive_12_mon_1  \\\n",
       "0                                               0.000093                                                                                    \n",
       "1                                               0.000057                                                                                    \n",
       "2                                               0.000021                                                                                    \n",
       "3                                               0.000134                                                                                    \n",
       "4                                               0.000022                                                                                    \n",
       "...                                                  ...                                                                                    \n",
       "10122                                           0.000191                                                                                    \n",
       "10123                                           0.995270                                                                                    \n",
       "10124                                           0.997880                                                                                    \n",
       "10125                                           0.996710                                                                                    \n",
       "10126                                           0.996620                                                                                    \n",
       "\n",
       "       Naive_Bayes_Classifier_Attrition_Flag_Card_Category_Contacts_Count_12_mon_Dependent_count_Education_Level_Months_Inactive_12_mon_2  \n",
       "0                                               0.999910                                                                                   \n",
       "1                                               0.999940                                                                                   \n",
       "2                                               0.999980                                                                                   \n",
       "3                                               0.999870                                                                                   \n",
       "4                                               0.999980                                                                                   \n",
       "...                                                  ...                                                                                   \n",
       "10122                                           0.999810                                                                                   \n",
       "10123                                           0.004729                                                                                   \n",
       "10124                                           0.002118                                                                                   \n",
       "10125                                           0.003294                                                                                   \n",
       "10126                                           0.003377                                                                                   \n",
       "\n",
       "[10127 rows x 23 columns]"
      ]
     },
     "execution_count": 3153,
     "metadata": {},
     "output_type": "execute_result"
    }
   ],
   "source": [
    "dfbank"
   ]
  },
  {
   "cell_type": "markdown",
   "id": "2fe34c0f-3c92-4f21-91cf-0e0f56cc7f7a",
   "metadata": {},
   "source": [
    "### Para este caso decidimos tomar el valor de Unknown como Na ya que se desconoce la información"
   ]
  },
  {
   "cell_type": "code",
   "execution_count": 3154,
   "id": "4f6f84e3-1c85-4287-847f-1fa069e83845",
   "metadata": {},
   "outputs": [],
   "source": [
    "dfbank1=dfbank.replace('Unknown',np.nan) "
   ]
  },
  {
   "cell_type": "code",
   "execution_count": 3155,
   "id": "5ce27617-6546-4a56-89be-f820623d3885",
   "metadata": {},
   "outputs": [],
   "source": [
    "dfnull= pd.DataFrame()\n",
    "dfnull['Null_Values']= dfbank1.isna().sum()\n",
    "resultado=dfnull.reset_index()\n",
    "resultado.columns=('Columnas','Null_Values')"
   ]
  },
  {
   "cell_type": "code",
   "execution_count": 3156,
   "id": "b39e0807-1e9a-4d41-ae4e-370a5d50d481",
   "metadata": {},
   "outputs": [],
   "source": [
    "resultado['Porcentaje_Valores_Nulos']=(resultado['Null_Values']/dfbank1.shape[0])*100"
   ]
  },
  {
   "cell_type": "code",
   "execution_count": 3157,
   "id": "0391ebb7-216b-474f-9a32-c2691da838b3",
   "metadata": {},
   "outputs": [
    {
     "data": {
      "text/html": [
       "<div>\n",
       "<style scoped>\n",
       "    .dataframe tbody tr th:only-of-type {\n",
       "        vertical-align: middle;\n",
       "    }\n",
       "\n",
       "    .dataframe tbody tr th {\n",
       "        vertical-align: top;\n",
       "    }\n",
       "\n",
       "    .dataframe thead th {\n",
       "        text-align: right;\n",
       "    }\n",
       "</style>\n",
       "<table border=\"1\" class=\"dataframe\">\n",
       "  <thead>\n",
       "    <tr style=\"text-align: right;\">\n",
       "      <th></th>\n",
       "      <th>Columnas</th>\n",
       "      <th>Null_Values</th>\n",
       "      <th>Porcentaje_Valores_Nulos</th>\n",
       "    </tr>\n",
       "  </thead>\n",
       "  <tbody>\n",
       "    <tr>\n",
       "      <th>0</th>\n",
       "      <td>CLIENTNUM</td>\n",
       "      <td>0</td>\n",
       "      <td>0.000000</td>\n",
       "    </tr>\n",
       "    <tr>\n",
       "      <th>1</th>\n",
       "      <td>Attrition_Flag</td>\n",
       "      <td>0</td>\n",
       "      <td>0.000000</td>\n",
       "    </tr>\n",
       "    <tr>\n",
       "      <th>2</th>\n",
       "      <td>Customer_Age</td>\n",
       "      <td>0</td>\n",
       "      <td>0.000000</td>\n",
       "    </tr>\n",
       "    <tr>\n",
       "      <th>3</th>\n",
       "      <td>Gender</td>\n",
       "      <td>0</td>\n",
       "      <td>0.000000</td>\n",
       "    </tr>\n",
       "    <tr>\n",
       "      <th>4</th>\n",
       "      <td>Dependent_count</td>\n",
       "      <td>0</td>\n",
       "      <td>0.000000</td>\n",
       "    </tr>\n",
       "    <tr>\n",
       "      <th>5</th>\n",
       "      <td>Education_Level</td>\n",
       "      <td>1519</td>\n",
       "      <td>14.999506</td>\n",
       "    </tr>\n",
       "    <tr>\n",
       "      <th>6</th>\n",
       "      <td>Marital_Status</td>\n",
       "      <td>749</td>\n",
       "      <td>7.396070</td>\n",
       "    </tr>\n",
       "    <tr>\n",
       "      <th>7</th>\n",
       "      <td>Income_Category</td>\n",
       "      <td>1112</td>\n",
       "      <td>10.980547</td>\n",
       "    </tr>\n",
       "    <tr>\n",
       "      <th>8</th>\n",
       "      <td>Card_Category</td>\n",
       "      <td>0</td>\n",
       "      <td>0.000000</td>\n",
       "    </tr>\n",
       "    <tr>\n",
       "      <th>9</th>\n",
       "      <td>Months_on_book</td>\n",
       "      <td>0</td>\n",
       "      <td>0.000000</td>\n",
       "    </tr>\n",
       "    <tr>\n",
       "      <th>10</th>\n",
       "      <td>Total_Relationship_Count</td>\n",
       "      <td>0</td>\n",
       "      <td>0.000000</td>\n",
       "    </tr>\n",
       "    <tr>\n",
       "      <th>11</th>\n",
       "      <td>Months_Inactive_12_mon</td>\n",
       "      <td>0</td>\n",
       "      <td>0.000000</td>\n",
       "    </tr>\n",
       "    <tr>\n",
       "      <th>12</th>\n",
       "      <td>Contacts_Count_12_mon</td>\n",
       "      <td>0</td>\n",
       "      <td>0.000000</td>\n",
       "    </tr>\n",
       "    <tr>\n",
       "      <th>13</th>\n",
       "      <td>Credit_Limit</td>\n",
       "      <td>0</td>\n",
       "      <td>0.000000</td>\n",
       "    </tr>\n",
       "    <tr>\n",
       "      <th>14</th>\n",
       "      <td>Total_Revolving_Bal</td>\n",
       "      <td>0</td>\n",
       "      <td>0.000000</td>\n",
       "    </tr>\n",
       "    <tr>\n",
       "      <th>15</th>\n",
       "      <td>Avg_Open_To_Buy</td>\n",
       "      <td>0</td>\n",
       "      <td>0.000000</td>\n",
       "    </tr>\n",
       "    <tr>\n",
       "      <th>16</th>\n",
       "      <td>Total_Amt_Chng_Q4_Q1</td>\n",
       "      <td>0</td>\n",
       "      <td>0.000000</td>\n",
       "    </tr>\n",
       "    <tr>\n",
       "      <th>17</th>\n",
       "      <td>Total_Trans_Amt</td>\n",
       "      <td>0</td>\n",
       "      <td>0.000000</td>\n",
       "    </tr>\n",
       "    <tr>\n",
       "      <th>18</th>\n",
       "      <td>Total_Trans_Ct</td>\n",
       "      <td>0</td>\n",
       "      <td>0.000000</td>\n",
       "    </tr>\n",
       "    <tr>\n",
       "      <th>19</th>\n",
       "      <td>Total_Ct_Chng_Q4_Q1</td>\n",
       "      <td>0</td>\n",
       "      <td>0.000000</td>\n",
       "    </tr>\n",
       "    <tr>\n",
       "      <th>20</th>\n",
       "      <td>Avg_Utilization_Ratio</td>\n",
       "      <td>0</td>\n",
       "      <td>0.000000</td>\n",
       "    </tr>\n",
       "    <tr>\n",
       "      <th>21</th>\n",
       "      <td>Naive_Bayes_Classifier_Attrition_Flag_Card_Cat...</td>\n",
       "      <td>0</td>\n",
       "      <td>0.000000</td>\n",
       "    </tr>\n",
       "    <tr>\n",
       "      <th>22</th>\n",
       "      <td>Naive_Bayes_Classifier_Attrition_Flag_Card_Cat...</td>\n",
       "      <td>0</td>\n",
       "      <td>0.000000</td>\n",
       "    </tr>\n",
       "  </tbody>\n",
       "</table>\n",
       "</div>"
      ],
      "text/plain": [
       "                                             Columnas  Null_Values  \\\n",
       "0                                           CLIENTNUM            0   \n",
       "1                                      Attrition_Flag            0   \n",
       "2                                        Customer_Age            0   \n",
       "3                                              Gender            0   \n",
       "4                                     Dependent_count            0   \n",
       "5                                     Education_Level         1519   \n",
       "6                                      Marital_Status          749   \n",
       "7                                     Income_Category         1112   \n",
       "8                                       Card_Category            0   \n",
       "9                                      Months_on_book            0   \n",
       "10                           Total_Relationship_Count            0   \n",
       "11                             Months_Inactive_12_mon            0   \n",
       "12                              Contacts_Count_12_mon            0   \n",
       "13                                       Credit_Limit            0   \n",
       "14                                Total_Revolving_Bal            0   \n",
       "15                                    Avg_Open_To_Buy            0   \n",
       "16                               Total_Amt_Chng_Q4_Q1            0   \n",
       "17                                    Total_Trans_Amt            0   \n",
       "18                                     Total_Trans_Ct            0   \n",
       "19                                Total_Ct_Chng_Q4_Q1            0   \n",
       "20                              Avg_Utilization_Ratio            0   \n",
       "21  Naive_Bayes_Classifier_Attrition_Flag_Card_Cat...            0   \n",
       "22  Naive_Bayes_Classifier_Attrition_Flag_Card_Cat...            0   \n",
       "\n",
       "    Porcentaje_Valores_Nulos  \n",
       "0                   0.000000  \n",
       "1                   0.000000  \n",
       "2                   0.000000  \n",
       "3                   0.000000  \n",
       "4                   0.000000  \n",
       "5                  14.999506  \n",
       "6                   7.396070  \n",
       "7                  10.980547  \n",
       "8                   0.000000  \n",
       "9                   0.000000  \n",
       "10                  0.000000  \n",
       "11                  0.000000  \n",
       "12                  0.000000  \n",
       "13                  0.000000  \n",
       "14                  0.000000  \n",
       "15                  0.000000  \n",
       "16                  0.000000  \n",
       "17                  0.000000  \n",
       "18                  0.000000  \n",
       "19                  0.000000  \n",
       "20                  0.000000  \n",
       "21                  0.000000  \n",
       "22                  0.000000  "
      ]
     },
     "execution_count": 3157,
     "metadata": {},
     "output_type": "execute_result"
    }
   ],
   "source": [
    "resultado"
   ]
  },
  {
   "cell_type": "code",
   "execution_count": 3158,
   "id": "ab1423b3-0527-4a16-b449-78053920acbf",
   "metadata": {},
   "outputs": [],
   "source": [
    "dfbank1=dfbank1.replace(np.nan,'Others')"
   ]
  },
  {
   "cell_type": "code",
   "execution_count": 3159,
   "id": "0c8e16f6-0d3c-4acb-be5f-088c8199a739",
   "metadata": {},
   "outputs": [
    {
     "data": {
      "text/html": [
       "<div>\n",
       "<style scoped>\n",
       "    .dataframe tbody tr th:only-of-type {\n",
       "        vertical-align: middle;\n",
       "    }\n",
       "\n",
       "    .dataframe tbody tr th {\n",
       "        vertical-align: top;\n",
       "    }\n",
       "\n",
       "    .dataframe thead th {\n",
       "        text-align: right;\n",
       "    }\n",
       "</style>\n",
       "<table border=\"1\" class=\"dataframe\">\n",
       "  <thead>\n",
       "    <tr style=\"text-align: right;\">\n",
       "      <th></th>\n",
       "      <th>CLIENTNUM</th>\n",
       "      <th>Attrition_Flag</th>\n",
       "      <th>Customer_Age</th>\n",
       "      <th>Gender</th>\n",
       "      <th>Dependent_count</th>\n",
       "      <th>Education_Level</th>\n",
       "      <th>Marital_Status</th>\n",
       "      <th>Income_Category</th>\n",
       "      <th>Card_Category</th>\n",
       "      <th>Months_on_book</th>\n",
       "      <th>...</th>\n",
       "      <th>Credit_Limit</th>\n",
       "      <th>Total_Revolving_Bal</th>\n",
       "      <th>Avg_Open_To_Buy</th>\n",
       "      <th>Total_Amt_Chng_Q4_Q1</th>\n",
       "      <th>Total_Trans_Amt</th>\n",
       "      <th>Total_Trans_Ct</th>\n",
       "      <th>Total_Ct_Chng_Q4_Q1</th>\n",
       "      <th>Avg_Utilization_Ratio</th>\n",
       "      <th>Naive_Bayes_Classifier_Attrition_Flag_Card_Category_Contacts_Count_12_mon_Dependent_count_Education_Level_Months_Inactive_12_mon_1</th>\n",
       "      <th>Naive_Bayes_Classifier_Attrition_Flag_Card_Category_Contacts_Count_12_mon_Dependent_count_Education_Level_Months_Inactive_12_mon_2</th>\n",
       "    </tr>\n",
       "  </thead>\n",
       "  <tbody>\n",
       "    <tr>\n",
       "      <th>0</th>\n",
       "      <td>768805383</td>\n",
       "      <td>Existing Customer</td>\n",
       "      <td>45</td>\n",
       "      <td>M</td>\n",
       "      <td>3</td>\n",
       "      <td>High School</td>\n",
       "      <td>Married</td>\n",
       "      <td>$60K - $80K</td>\n",
       "      <td>Blue</td>\n",
       "      <td>39</td>\n",
       "      <td>...</td>\n",
       "      <td>12691.0</td>\n",
       "      <td>777</td>\n",
       "      <td>11914.0</td>\n",
       "      <td>1.335</td>\n",
       "      <td>1144</td>\n",
       "      <td>42</td>\n",
       "      <td>1.625</td>\n",
       "      <td>0.061</td>\n",
       "      <td>0.000093</td>\n",
       "      <td>0.999910</td>\n",
       "    </tr>\n",
       "    <tr>\n",
       "      <th>1</th>\n",
       "      <td>818770008</td>\n",
       "      <td>Existing Customer</td>\n",
       "      <td>49</td>\n",
       "      <td>F</td>\n",
       "      <td>5</td>\n",
       "      <td>Graduate</td>\n",
       "      <td>Single</td>\n",
       "      <td>Less than $40K</td>\n",
       "      <td>Blue</td>\n",
       "      <td>44</td>\n",
       "      <td>...</td>\n",
       "      <td>8256.0</td>\n",
       "      <td>864</td>\n",
       "      <td>7392.0</td>\n",
       "      <td>1.541</td>\n",
       "      <td>1291</td>\n",
       "      <td>33</td>\n",
       "      <td>3.714</td>\n",
       "      <td>0.105</td>\n",
       "      <td>0.000057</td>\n",
       "      <td>0.999940</td>\n",
       "    </tr>\n",
       "    <tr>\n",
       "      <th>2</th>\n",
       "      <td>713982108</td>\n",
       "      <td>Existing Customer</td>\n",
       "      <td>51</td>\n",
       "      <td>M</td>\n",
       "      <td>3</td>\n",
       "      <td>Graduate</td>\n",
       "      <td>Married</td>\n",
       "      <td>$80K - $120K</td>\n",
       "      <td>Blue</td>\n",
       "      <td>36</td>\n",
       "      <td>...</td>\n",
       "      <td>3418.0</td>\n",
       "      <td>0</td>\n",
       "      <td>3418.0</td>\n",
       "      <td>2.594</td>\n",
       "      <td>1887</td>\n",
       "      <td>20</td>\n",
       "      <td>2.333</td>\n",
       "      <td>0.000</td>\n",
       "      <td>0.000021</td>\n",
       "      <td>0.999980</td>\n",
       "    </tr>\n",
       "    <tr>\n",
       "      <th>3</th>\n",
       "      <td>769911858</td>\n",
       "      <td>Existing Customer</td>\n",
       "      <td>40</td>\n",
       "      <td>F</td>\n",
       "      <td>4</td>\n",
       "      <td>High School</td>\n",
       "      <td>Others</td>\n",
       "      <td>Less than $40K</td>\n",
       "      <td>Blue</td>\n",
       "      <td>34</td>\n",
       "      <td>...</td>\n",
       "      <td>3313.0</td>\n",
       "      <td>2517</td>\n",
       "      <td>796.0</td>\n",
       "      <td>1.405</td>\n",
       "      <td>1171</td>\n",
       "      <td>20</td>\n",
       "      <td>2.333</td>\n",
       "      <td>0.760</td>\n",
       "      <td>0.000134</td>\n",
       "      <td>0.999870</td>\n",
       "    </tr>\n",
       "    <tr>\n",
       "      <th>4</th>\n",
       "      <td>709106358</td>\n",
       "      <td>Existing Customer</td>\n",
       "      <td>40</td>\n",
       "      <td>M</td>\n",
       "      <td>3</td>\n",
       "      <td>Uneducated</td>\n",
       "      <td>Married</td>\n",
       "      <td>$60K - $80K</td>\n",
       "      <td>Blue</td>\n",
       "      <td>21</td>\n",
       "      <td>...</td>\n",
       "      <td>4716.0</td>\n",
       "      <td>0</td>\n",
       "      <td>4716.0</td>\n",
       "      <td>2.175</td>\n",
       "      <td>816</td>\n",
       "      <td>28</td>\n",
       "      <td>2.500</td>\n",
       "      <td>0.000</td>\n",
       "      <td>0.000022</td>\n",
       "      <td>0.999980</td>\n",
       "    </tr>\n",
       "    <tr>\n",
       "      <th>...</th>\n",
       "      <td>...</td>\n",
       "      <td>...</td>\n",
       "      <td>...</td>\n",
       "      <td>...</td>\n",
       "      <td>...</td>\n",
       "      <td>...</td>\n",
       "      <td>...</td>\n",
       "      <td>...</td>\n",
       "      <td>...</td>\n",
       "      <td>...</td>\n",
       "      <td>...</td>\n",
       "      <td>...</td>\n",
       "      <td>...</td>\n",
       "      <td>...</td>\n",
       "      <td>...</td>\n",
       "      <td>...</td>\n",
       "      <td>...</td>\n",
       "      <td>...</td>\n",
       "      <td>...</td>\n",
       "      <td>...</td>\n",
       "      <td>...</td>\n",
       "    </tr>\n",
       "    <tr>\n",
       "      <th>10122</th>\n",
       "      <td>772366833</td>\n",
       "      <td>Existing Customer</td>\n",
       "      <td>50</td>\n",
       "      <td>M</td>\n",
       "      <td>2</td>\n",
       "      <td>Graduate</td>\n",
       "      <td>Single</td>\n",
       "      <td>$40K - $60K</td>\n",
       "      <td>Blue</td>\n",
       "      <td>40</td>\n",
       "      <td>...</td>\n",
       "      <td>4003.0</td>\n",
       "      <td>1851</td>\n",
       "      <td>2152.0</td>\n",
       "      <td>0.703</td>\n",
       "      <td>15476</td>\n",
       "      <td>117</td>\n",
       "      <td>0.857</td>\n",
       "      <td>0.462</td>\n",
       "      <td>0.000191</td>\n",
       "      <td>0.999810</td>\n",
       "    </tr>\n",
       "    <tr>\n",
       "      <th>10123</th>\n",
       "      <td>710638233</td>\n",
       "      <td>Attrited Customer</td>\n",
       "      <td>41</td>\n",
       "      <td>M</td>\n",
       "      <td>2</td>\n",
       "      <td>Others</td>\n",
       "      <td>Divorced</td>\n",
       "      <td>$40K - $60K</td>\n",
       "      <td>Blue</td>\n",
       "      <td>25</td>\n",
       "      <td>...</td>\n",
       "      <td>4277.0</td>\n",
       "      <td>2186</td>\n",
       "      <td>2091.0</td>\n",
       "      <td>0.804</td>\n",
       "      <td>8764</td>\n",
       "      <td>69</td>\n",
       "      <td>0.683</td>\n",
       "      <td>0.511</td>\n",
       "      <td>0.995270</td>\n",
       "      <td>0.004729</td>\n",
       "    </tr>\n",
       "    <tr>\n",
       "      <th>10124</th>\n",
       "      <td>716506083</td>\n",
       "      <td>Attrited Customer</td>\n",
       "      <td>44</td>\n",
       "      <td>F</td>\n",
       "      <td>1</td>\n",
       "      <td>High School</td>\n",
       "      <td>Married</td>\n",
       "      <td>Less than $40K</td>\n",
       "      <td>Blue</td>\n",
       "      <td>36</td>\n",
       "      <td>...</td>\n",
       "      <td>5409.0</td>\n",
       "      <td>0</td>\n",
       "      <td>5409.0</td>\n",
       "      <td>0.819</td>\n",
       "      <td>10291</td>\n",
       "      <td>60</td>\n",
       "      <td>0.818</td>\n",
       "      <td>0.000</td>\n",
       "      <td>0.997880</td>\n",
       "      <td>0.002118</td>\n",
       "    </tr>\n",
       "    <tr>\n",
       "      <th>10125</th>\n",
       "      <td>717406983</td>\n",
       "      <td>Attrited Customer</td>\n",
       "      <td>30</td>\n",
       "      <td>M</td>\n",
       "      <td>2</td>\n",
       "      <td>Graduate</td>\n",
       "      <td>Others</td>\n",
       "      <td>$40K - $60K</td>\n",
       "      <td>Blue</td>\n",
       "      <td>36</td>\n",
       "      <td>...</td>\n",
       "      <td>5281.0</td>\n",
       "      <td>0</td>\n",
       "      <td>5281.0</td>\n",
       "      <td>0.535</td>\n",
       "      <td>8395</td>\n",
       "      <td>62</td>\n",
       "      <td>0.722</td>\n",
       "      <td>0.000</td>\n",
       "      <td>0.996710</td>\n",
       "      <td>0.003294</td>\n",
       "    </tr>\n",
       "    <tr>\n",
       "      <th>10126</th>\n",
       "      <td>714337233</td>\n",
       "      <td>Attrited Customer</td>\n",
       "      <td>43</td>\n",
       "      <td>F</td>\n",
       "      <td>2</td>\n",
       "      <td>Graduate</td>\n",
       "      <td>Married</td>\n",
       "      <td>Less than $40K</td>\n",
       "      <td>Silver</td>\n",
       "      <td>25</td>\n",
       "      <td>...</td>\n",
       "      <td>10388.0</td>\n",
       "      <td>1961</td>\n",
       "      <td>8427.0</td>\n",
       "      <td>0.703</td>\n",
       "      <td>10294</td>\n",
       "      <td>61</td>\n",
       "      <td>0.649</td>\n",
       "      <td>0.189</td>\n",
       "      <td>0.996620</td>\n",
       "      <td>0.003377</td>\n",
       "    </tr>\n",
       "  </tbody>\n",
       "</table>\n",
       "<p>10127 rows × 23 columns</p>\n",
       "</div>"
      ],
      "text/plain": [
       "       CLIENTNUM     Attrition_Flag  Customer_Age Gender  Dependent_count  \\\n",
       "0      768805383  Existing Customer            45      M                3   \n",
       "1      818770008  Existing Customer            49      F                5   \n",
       "2      713982108  Existing Customer            51      M                3   \n",
       "3      769911858  Existing Customer            40      F                4   \n",
       "4      709106358  Existing Customer            40      M                3   \n",
       "...          ...                ...           ...    ...              ...   \n",
       "10122  772366833  Existing Customer            50      M                2   \n",
       "10123  710638233  Attrited Customer            41      M                2   \n",
       "10124  716506083  Attrited Customer            44      F                1   \n",
       "10125  717406983  Attrited Customer            30      M                2   \n",
       "10126  714337233  Attrited Customer            43      F                2   \n",
       "\n",
       "      Education_Level Marital_Status Income_Category Card_Category  \\\n",
       "0         High School        Married     $60K - $80K          Blue   \n",
       "1            Graduate         Single  Less than $40K          Blue   \n",
       "2            Graduate        Married    $80K - $120K          Blue   \n",
       "3         High School         Others  Less than $40K          Blue   \n",
       "4          Uneducated        Married     $60K - $80K          Blue   \n",
       "...               ...            ...             ...           ...   \n",
       "10122        Graduate         Single     $40K - $60K          Blue   \n",
       "10123          Others       Divorced     $40K - $60K          Blue   \n",
       "10124     High School        Married  Less than $40K          Blue   \n",
       "10125        Graduate         Others     $40K - $60K          Blue   \n",
       "10126        Graduate        Married  Less than $40K        Silver   \n",
       "\n",
       "       Months_on_book  ...  Credit_Limit  Total_Revolving_Bal  \\\n",
       "0                  39  ...       12691.0                  777   \n",
       "1                  44  ...        8256.0                  864   \n",
       "2                  36  ...        3418.0                    0   \n",
       "3                  34  ...        3313.0                 2517   \n",
       "4                  21  ...        4716.0                    0   \n",
       "...               ...  ...           ...                  ...   \n",
       "10122              40  ...        4003.0                 1851   \n",
       "10123              25  ...        4277.0                 2186   \n",
       "10124              36  ...        5409.0                    0   \n",
       "10125              36  ...        5281.0                    0   \n",
       "10126              25  ...       10388.0                 1961   \n",
       "\n",
       "       Avg_Open_To_Buy  Total_Amt_Chng_Q4_Q1  Total_Trans_Amt  Total_Trans_Ct  \\\n",
       "0              11914.0                 1.335             1144              42   \n",
       "1               7392.0                 1.541             1291              33   \n",
       "2               3418.0                 2.594             1887              20   \n",
       "3                796.0                 1.405             1171              20   \n",
       "4               4716.0                 2.175              816              28   \n",
       "...                ...                   ...              ...             ...   \n",
       "10122           2152.0                 0.703            15476             117   \n",
       "10123           2091.0                 0.804             8764              69   \n",
       "10124           5409.0                 0.819            10291              60   \n",
       "10125           5281.0                 0.535             8395              62   \n",
       "10126           8427.0                 0.703            10294              61   \n",
       "\n",
       "       Total_Ct_Chng_Q4_Q1  Avg_Utilization_Ratio  \\\n",
       "0                    1.625                  0.061   \n",
       "1                    3.714                  0.105   \n",
       "2                    2.333                  0.000   \n",
       "3                    2.333                  0.760   \n",
       "4                    2.500                  0.000   \n",
       "...                    ...                    ...   \n",
       "10122                0.857                  0.462   \n",
       "10123                0.683                  0.511   \n",
       "10124                0.818                  0.000   \n",
       "10125                0.722                  0.000   \n",
       "10126                0.649                  0.189   \n",
       "\n",
       "       Naive_Bayes_Classifier_Attrition_Flag_Card_Category_Contacts_Count_12_mon_Dependent_count_Education_Level_Months_Inactive_12_mon_1  \\\n",
       "0                                               0.000093                                                                                    \n",
       "1                                               0.000057                                                                                    \n",
       "2                                               0.000021                                                                                    \n",
       "3                                               0.000134                                                                                    \n",
       "4                                               0.000022                                                                                    \n",
       "...                                                  ...                                                                                    \n",
       "10122                                           0.000191                                                                                    \n",
       "10123                                           0.995270                                                                                    \n",
       "10124                                           0.997880                                                                                    \n",
       "10125                                           0.996710                                                                                    \n",
       "10126                                           0.996620                                                                                    \n",
       "\n",
       "       Naive_Bayes_Classifier_Attrition_Flag_Card_Category_Contacts_Count_12_mon_Dependent_count_Education_Level_Months_Inactive_12_mon_2  \n",
       "0                                               0.999910                                                                                   \n",
       "1                                               0.999940                                                                                   \n",
       "2                                               0.999980                                                                                   \n",
       "3                                               0.999870                                                                                   \n",
       "4                                               0.999980                                                                                   \n",
       "...                                                  ...                                                                                   \n",
       "10122                                           0.999810                                                                                   \n",
       "10123                                           0.004729                                                                                   \n",
       "10124                                           0.002118                                                                                   \n",
       "10125                                           0.003294                                                                                   \n",
       "10126                                           0.003377                                                                                   \n",
       "\n",
       "[10127 rows x 23 columns]"
      ]
     },
     "execution_count": 3159,
     "metadata": {},
     "output_type": "execute_result"
    }
   ],
   "source": [
    "dfbank1"
   ]
  },
  {
   "cell_type": "markdown",
   "id": "4c4634c9-0486-4654-96a9-e3a7157a9831",
   "metadata": {},
   "source": [
    "# EDA Variables numericas Continuas"
   ]
  },
  {
   "cell_type": "code",
   "execution_count": 3160,
   "id": "5dad62db-e6a0-46ee-9ba1-94fe62a8ba88",
   "metadata": {},
   "outputs": [
    {
     "data": {
      "text/html": [
       "<div>\n",
       "<style scoped>\n",
       "    .dataframe tbody tr th:only-of-type {\n",
       "        vertical-align: middle;\n",
       "    }\n",
       "\n",
       "    .dataframe tbody tr th {\n",
       "        vertical-align: top;\n",
       "    }\n",
       "\n",
       "    .dataframe thead th {\n",
       "        text-align: right;\n",
       "    }\n",
       "</style>\n",
       "<table border=\"1\" class=\"dataframe\">\n",
       "  <thead>\n",
       "    <tr style=\"text-align: right;\">\n",
       "      <th></th>\n",
       "      <th>CLIENTNUM</th>\n",
       "      <th>Customer_Age</th>\n",
       "      <th>Dependent_count</th>\n",
       "      <th>Months_on_book</th>\n",
       "      <th>Total_Relationship_Count</th>\n",
       "      <th>Months_Inactive_12_mon</th>\n",
       "      <th>Contacts_Count_12_mon</th>\n",
       "      <th>Credit_Limit</th>\n",
       "      <th>Total_Revolving_Bal</th>\n",
       "      <th>Avg_Open_To_Buy</th>\n",
       "      <th>Total_Amt_Chng_Q4_Q1</th>\n",
       "      <th>Total_Trans_Amt</th>\n",
       "      <th>Total_Trans_Ct</th>\n",
       "      <th>Total_Ct_Chng_Q4_Q1</th>\n",
       "      <th>Avg_Utilization_Ratio</th>\n",
       "      <th>Naive_Bayes_Classifier_Attrition_Flag_Card_Category_Contacts_Count_12_mon_Dependent_count_Education_Level_Months_Inactive_12_mon_1</th>\n",
       "      <th>Naive_Bayes_Classifier_Attrition_Flag_Card_Category_Contacts_Count_12_mon_Dependent_count_Education_Level_Months_Inactive_12_mon_2</th>\n",
       "    </tr>\n",
       "  </thead>\n",
       "  <tbody>\n",
       "    <tr>\n",
       "      <th>count</th>\n",
       "      <td>1.012700e+04</td>\n",
       "      <td>10127.000000</td>\n",
       "      <td>10127.000000</td>\n",
       "      <td>10127.000000</td>\n",
       "      <td>10127.000000</td>\n",
       "      <td>10127.000000</td>\n",
       "      <td>10127.000000</td>\n",
       "      <td>10127.000000</td>\n",
       "      <td>10127.000000</td>\n",
       "      <td>10127.000000</td>\n",
       "      <td>10127.000000</td>\n",
       "      <td>10127.000000</td>\n",
       "      <td>10127.000000</td>\n",
       "      <td>10127.000000</td>\n",
       "      <td>10127.000000</td>\n",
       "      <td>10127.000000</td>\n",
       "      <td>10127.000000</td>\n",
       "    </tr>\n",
       "    <tr>\n",
       "      <th>mean</th>\n",
       "      <td>7.391776e+08</td>\n",
       "      <td>46.325960</td>\n",
       "      <td>2.346203</td>\n",
       "      <td>35.928409</td>\n",
       "      <td>3.812580</td>\n",
       "      <td>2.341167</td>\n",
       "      <td>2.455317</td>\n",
       "      <td>8631.953698</td>\n",
       "      <td>1162.814061</td>\n",
       "      <td>7469.139637</td>\n",
       "      <td>0.759941</td>\n",
       "      <td>4404.086304</td>\n",
       "      <td>64.858695</td>\n",
       "      <td>0.712222</td>\n",
       "      <td>0.274894</td>\n",
       "      <td>0.159997</td>\n",
       "      <td>0.840003</td>\n",
       "    </tr>\n",
       "    <tr>\n",
       "      <th>std</th>\n",
       "      <td>3.690378e+07</td>\n",
       "      <td>8.016814</td>\n",
       "      <td>1.298908</td>\n",
       "      <td>7.986416</td>\n",
       "      <td>1.554408</td>\n",
       "      <td>1.010622</td>\n",
       "      <td>1.106225</td>\n",
       "      <td>9088.776650</td>\n",
       "      <td>814.987335</td>\n",
       "      <td>9090.685324</td>\n",
       "      <td>0.219207</td>\n",
       "      <td>3397.129254</td>\n",
       "      <td>23.472570</td>\n",
       "      <td>0.238086</td>\n",
       "      <td>0.275691</td>\n",
       "      <td>0.365301</td>\n",
       "      <td>0.365301</td>\n",
       "    </tr>\n",
       "    <tr>\n",
       "      <th>min</th>\n",
       "      <td>7.080821e+08</td>\n",
       "      <td>26.000000</td>\n",
       "      <td>0.000000</td>\n",
       "      <td>13.000000</td>\n",
       "      <td>1.000000</td>\n",
       "      <td>0.000000</td>\n",
       "      <td>0.000000</td>\n",
       "      <td>1438.300000</td>\n",
       "      <td>0.000000</td>\n",
       "      <td>3.000000</td>\n",
       "      <td>0.000000</td>\n",
       "      <td>510.000000</td>\n",
       "      <td>10.000000</td>\n",
       "      <td>0.000000</td>\n",
       "      <td>0.000000</td>\n",
       "      <td>0.000008</td>\n",
       "      <td>0.000420</td>\n",
       "    </tr>\n",
       "    <tr>\n",
       "      <th>25%</th>\n",
       "      <td>7.130368e+08</td>\n",
       "      <td>41.000000</td>\n",
       "      <td>1.000000</td>\n",
       "      <td>31.000000</td>\n",
       "      <td>3.000000</td>\n",
       "      <td>2.000000</td>\n",
       "      <td>2.000000</td>\n",
       "      <td>2555.000000</td>\n",
       "      <td>359.000000</td>\n",
       "      <td>1324.500000</td>\n",
       "      <td>0.631000</td>\n",
       "      <td>2155.500000</td>\n",
       "      <td>45.000000</td>\n",
       "      <td>0.582000</td>\n",
       "      <td>0.023000</td>\n",
       "      <td>0.000099</td>\n",
       "      <td>0.999660</td>\n",
       "    </tr>\n",
       "    <tr>\n",
       "      <th>50%</th>\n",
       "      <td>7.179264e+08</td>\n",
       "      <td>46.000000</td>\n",
       "      <td>2.000000</td>\n",
       "      <td>36.000000</td>\n",
       "      <td>4.000000</td>\n",
       "      <td>2.000000</td>\n",
       "      <td>2.000000</td>\n",
       "      <td>4549.000000</td>\n",
       "      <td>1276.000000</td>\n",
       "      <td>3474.000000</td>\n",
       "      <td>0.736000</td>\n",
       "      <td>3899.000000</td>\n",
       "      <td>67.000000</td>\n",
       "      <td>0.702000</td>\n",
       "      <td>0.176000</td>\n",
       "      <td>0.000181</td>\n",
       "      <td>0.999820</td>\n",
       "    </tr>\n",
       "    <tr>\n",
       "      <th>75%</th>\n",
       "      <td>7.731435e+08</td>\n",
       "      <td>52.000000</td>\n",
       "      <td>3.000000</td>\n",
       "      <td>40.000000</td>\n",
       "      <td>5.000000</td>\n",
       "      <td>3.000000</td>\n",
       "      <td>3.000000</td>\n",
       "      <td>11067.500000</td>\n",
       "      <td>1784.000000</td>\n",
       "      <td>9859.000000</td>\n",
       "      <td>0.859000</td>\n",
       "      <td>4741.000000</td>\n",
       "      <td>81.000000</td>\n",
       "      <td>0.818000</td>\n",
       "      <td>0.503000</td>\n",
       "      <td>0.000337</td>\n",
       "      <td>0.999900</td>\n",
       "    </tr>\n",
       "    <tr>\n",
       "      <th>max</th>\n",
       "      <td>8.283431e+08</td>\n",
       "      <td>73.000000</td>\n",
       "      <td>5.000000</td>\n",
       "      <td>56.000000</td>\n",
       "      <td>6.000000</td>\n",
       "      <td>6.000000</td>\n",
       "      <td>6.000000</td>\n",
       "      <td>34516.000000</td>\n",
       "      <td>2517.000000</td>\n",
       "      <td>34516.000000</td>\n",
       "      <td>3.397000</td>\n",
       "      <td>18484.000000</td>\n",
       "      <td>139.000000</td>\n",
       "      <td>3.714000</td>\n",
       "      <td>0.999000</td>\n",
       "      <td>0.999580</td>\n",
       "      <td>0.999990</td>\n",
       "    </tr>\n",
       "  </tbody>\n",
       "</table>\n",
       "</div>"
      ],
      "text/plain": [
       "          CLIENTNUM  Customer_Age  Dependent_count  Months_on_book  \\\n",
       "count  1.012700e+04  10127.000000     10127.000000    10127.000000   \n",
       "mean   7.391776e+08     46.325960         2.346203       35.928409   \n",
       "std    3.690378e+07      8.016814         1.298908        7.986416   \n",
       "min    7.080821e+08     26.000000         0.000000       13.000000   \n",
       "25%    7.130368e+08     41.000000         1.000000       31.000000   \n",
       "50%    7.179264e+08     46.000000         2.000000       36.000000   \n",
       "75%    7.731435e+08     52.000000         3.000000       40.000000   \n",
       "max    8.283431e+08     73.000000         5.000000       56.000000   \n",
       "\n",
       "       Total_Relationship_Count  Months_Inactive_12_mon  \\\n",
       "count              10127.000000            10127.000000   \n",
       "mean                   3.812580                2.341167   \n",
       "std                    1.554408                1.010622   \n",
       "min                    1.000000                0.000000   \n",
       "25%                    3.000000                2.000000   \n",
       "50%                    4.000000                2.000000   \n",
       "75%                    5.000000                3.000000   \n",
       "max                    6.000000                6.000000   \n",
       "\n",
       "       Contacts_Count_12_mon  Credit_Limit  Total_Revolving_Bal  \\\n",
       "count           10127.000000  10127.000000         10127.000000   \n",
       "mean                2.455317   8631.953698          1162.814061   \n",
       "std                 1.106225   9088.776650           814.987335   \n",
       "min                 0.000000   1438.300000             0.000000   \n",
       "25%                 2.000000   2555.000000           359.000000   \n",
       "50%                 2.000000   4549.000000          1276.000000   \n",
       "75%                 3.000000  11067.500000          1784.000000   \n",
       "max                 6.000000  34516.000000          2517.000000   \n",
       "\n",
       "       Avg_Open_To_Buy  Total_Amt_Chng_Q4_Q1  Total_Trans_Amt  Total_Trans_Ct  \\\n",
       "count     10127.000000          10127.000000     10127.000000    10127.000000   \n",
       "mean       7469.139637              0.759941      4404.086304       64.858695   \n",
       "std        9090.685324              0.219207      3397.129254       23.472570   \n",
       "min           3.000000              0.000000       510.000000       10.000000   \n",
       "25%        1324.500000              0.631000      2155.500000       45.000000   \n",
       "50%        3474.000000              0.736000      3899.000000       67.000000   \n",
       "75%        9859.000000              0.859000      4741.000000       81.000000   \n",
       "max       34516.000000              3.397000     18484.000000      139.000000   \n",
       "\n",
       "       Total_Ct_Chng_Q4_Q1  Avg_Utilization_Ratio  \\\n",
       "count         10127.000000           10127.000000   \n",
       "mean              0.712222               0.274894   \n",
       "std               0.238086               0.275691   \n",
       "min               0.000000               0.000000   \n",
       "25%               0.582000               0.023000   \n",
       "50%               0.702000               0.176000   \n",
       "75%               0.818000               0.503000   \n",
       "max               3.714000               0.999000   \n",
       "\n",
       "       Naive_Bayes_Classifier_Attrition_Flag_Card_Category_Contacts_Count_12_mon_Dependent_count_Education_Level_Months_Inactive_12_mon_1  \\\n",
       "count                                       10127.000000                                                                                    \n",
       "mean                                            0.159997                                                                                    \n",
       "std                                             0.365301                                                                                    \n",
       "min                                             0.000008                                                                                    \n",
       "25%                                             0.000099                                                                                    \n",
       "50%                                             0.000181                                                                                    \n",
       "75%                                             0.000337                                                                                    \n",
       "max                                             0.999580                                                                                    \n",
       "\n",
       "       Naive_Bayes_Classifier_Attrition_Flag_Card_Category_Contacts_Count_12_mon_Dependent_count_Education_Level_Months_Inactive_12_mon_2  \n",
       "count                                       10127.000000                                                                                   \n",
       "mean                                            0.840003                                                                                   \n",
       "std                                             0.365301                                                                                   \n",
       "min                                             0.000420                                                                                   \n",
       "25%                                             0.999660                                                                                   \n",
       "50%                                             0.999820                                                                                   \n",
       "75%                                             0.999900                                                                                   \n",
       "max                                             0.999990                                                                                   "
      ]
     },
     "execution_count": 3160,
     "metadata": {},
     "output_type": "execute_result"
    }
   ],
   "source": [
    "dfbank1.describe()"
   ]
  },
  {
   "cell_type": "markdown",
   "id": "afa6bb48-f844-49cd-9b53-2973c9ccda42",
   "metadata": {},
   "source": [
    "## Para este Dataset decidimos tomar como variables numericas continuas  las siguientes variables:Credit_Limit,Avg_Open_To_Buy y avg_utilization_ratio, las ultimas 2 variables del dataset no se utilizaran ya que el autor del dataset de kaggle pide excluir las variables Naive_Bayes_Classifier 1 y 2"
   ]
  },
  {
   "cell_type": "markdown",
   "id": "20f86dbc-c48b-4e80-826d-9a3c3558403c",
   "metadata": {},
   "source": [
    "# Comenzamos a analizar la variable credit limit"
   ]
  },
  {
   "cell_type": "code",
   "execution_count": 3161,
   "id": "2c49cd94-6122-4944-85db-ed6523ea6ad1",
   "metadata": {},
   "outputs": [
    {
     "data": {
      "text/plain": [
       "{'whiskers': [<matplotlib.lines.Line2D at 0x225973e9fd0>,\n",
       "  <matplotlib.lines.Line2D at 0x225973ea1c0>],\n",
       " 'caps': [<matplotlib.lines.Line2D at 0x225973ea640>,\n",
       "  <matplotlib.lines.Line2D at 0x225973eab80>],\n",
       " 'boxes': [<matplotlib.lines.Line2D at 0x225973e9be0>],\n",
       " 'medians': [<matplotlib.lines.Line2D at 0x225973eaf40>],\n",
       " 'fliers': [<matplotlib.lines.Line2D at 0x225973eb220>],\n",
       " 'means': []}"
      ]
     },
     "execution_count": 3161,
     "metadata": {},
     "output_type": "execute_result"
    },
    {
     "data": {
      "image/png": "[encoded data removed]",
      "text/plain": [
       "<Figure size 432x288 with 1 Axes>"
      ]
     },
     "metadata": {
      "needs_background": "light"
     },
     "output_type": "display_data"
    }
   ],
   "source": [
    "plt.boxplot( dfbank1[\"Credit_Limit\"] )"
   ]
  },
  {
   "cell_type": "code",
   "execution_count": 3162,
   "id": "81dbd7fa-e6d5-4e87-9675-1fae76c2eb17",
   "metadata": {},
   "outputs": [
    {
     "data": {
      "text/plain": [
       "4549.0"
      ]
     },
     "execution_count": 3162,
     "metadata": {},
     "output_type": "execute_result"
    }
   ],
   "source": [
    "np.median(dfbank1[\"Credit_Limit\"])"
   ]
  },
  {
   "cell_type": "code",
   "execution_count": 3163,
   "id": "6eb4426b-617e-4fd7-bef8-8e9f8b9d6295",
   "metadata": {},
   "outputs": [
    {
     "data": {
      "text/plain": [
       "Blue        0.931767\n",
       "Silver      0.054804\n",
       "Gold        0.011455\n",
       "Platinum    0.001975\n",
       "Name: Card_Category, dtype: float64"
      ]
     },
     "execution_count": 3163,
     "metadata": {},
     "output_type": "execute_result"
    }
   ],
   "source": [
    "dfbank1[\"Card_Category\"].value_counts()/dfbank1.shape[0]"
   ]
  },
  {
   "cell_type": "code",
   "execution_count": 3164,
   "id": "88362e84-73bd-4078-824d-d9078b4ea7d8",
   "metadata": {},
   "outputs": [
    {
     "data": {
      "text/plain": [
       "Graduate         0.308877\n",
       "High School      0.198776\n",
       "Others           0.149995\n",
       "Uneducated       0.146835\n",
       "College          0.100030\n",
       "Post-Graduate    0.050953\n",
       "Doctorate        0.044534\n",
       "Name: Education_Level, dtype: float64"
      ]
     },
     "execution_count": 3164,
     "metadata": {},
     "output_type": "execute_result"
    }
   ],
   "source": [
    "dfbank1[\"Education_Level\"].value_counts()/dfbank1.shape[0]"
   ]
  },
  {
   "cell_type": "code",
   "execution_count": 3165,
   "id": "08361518-86e2-4065-a366-507e4cb38fe7",
   "metadata": {},
   "outputs": [
    {
     "data": {
      "text/plain": [
       "Married     0.462822\n",
       "Single      0.389355\n",
       "Others      0.073961\n",
       "Divorced    0.073862\n",
       "Name: Marital_Status, dtype: float64"
      ]
     },
     "execution_count": 3165,
     "metadata": {},
     "output_type": "execute_result"
    }
   ],
   "source": [
    "dfbank1[\"Marital_Status\"].value_counts()/dfbank1.shape[0]"
   ]
  },
  {
   "cell_type": "code",
   "execution_count": 3166,
   "id": "95132223-3cd1-4f14-b336-76525b70f0cc",
   "metadata": {},
   "outputs": [
    {
     "data": {
      "text/plain": [
       "Less than $40K    0.351634\n",
       "$40K - $60K       0.176755\n",
       "$80K - $120K      0.151575\n",
       "$60K - $80K       0.138442\n",
       "Others            0.109805\n",
       "$120K +           0.071788\n",
       "Name: Income_Category, dtype: float64"
      ]
     },
     "execution_count": 3166,
     "metadata": {},
     "output_type": "execute_result"
    }
   ],
   "source": [
    "dfbank1[\"Income_Category\"].value_counts()/dfbank1.shape[0]"
   ]
  },
  {
   "cell_type": "code",
   "execution_count": 3167,
   "id": "b2103527-eafd-40c2-bc9b-8305ab1a5edd",
   "metadata": {},
   "outputs": [
    {
     "data": {
      "text/plain": [
       "36    24.321122\n",
       "37     3.535104\n",
       "34     3.485731\n",
       "38     3.426484\n",
       "39     3.367236\n",
       "40     3.288239\n",
       "31     3.140120\n",
       "35     3.130246\n",
       "33     3.011751\n",
       "30     2.962378\n",
       "41     2.932754\n",
       "32     2.853757\n",
       "28     2.715513\n",
       "43     2.695764\n",
       "42     2.676015\n",
       "29     2.379777\n",
       "44     2.271156\n",
       "45     2.241533\n",
       "27     2.034166\n",
       "46     1.945295\n",
       "26     1.836674\n",
       "47     1.688555\n",
       "25     1.629308\n",
       "48     1.599684\n",
       "24     1.579935\n",
       "49     1.392318\n",
       "23     1.145453\n",
       "22     1.036832\n",
       "56     1.017083\n",
       "50     0.947961\n",
       "21     0.819591\n",
       "51     0.789967\n",
       "53     0.770218\n",
       "20     0.730720\n",
       "13     0.691221\n",
       "19     0.622099\n",
       "52     0.612225\n",
       "18     0.572726\n",
       "54     0.523353\n",
       "55     0.414733\n",
       "17     0.385109\n",
       "15     0.335736\n",
       "16     0.286363\n",
       "14     0.157993\n",
       "Name: Months_on_book, dtype: float64"
      ]
     },
     "execution_count": 3167,
     "metadata": {},
     "output_type": "execute_result"
    }
   ],
   "source": [
    "dfbank1[\"Months_on_book\"].value_counts()*100/dfbank1.shape[0]"
   ]
  },
  {
   "cell_type": "markdown",
   "id": "73bd71cd-23c6-4032-acba-f74767529843",
   "metadata": {},
   "source": [
    "### Eliminamos el valor de platinum y gold en Card_Category ya que solo aportaba un 1.3% de información asi mismo eliminamos Doctorate que solo aportaba un 4.5% de información"
   ]
  },
  {
   "cell_type": "code",
   "execution_count": 3168,
   "id": "0a68f56a-2f2e-4fd6-aa8d-24356b207fb7",
   "metadata": {},
   "outputs": [],
   "source": [
    "dfbank1 = dfbank1.loc[ ~dfbank1[\"Card_Category\"].isin(['Platinum','Gold']) , : ]\n",
    "dfbank1 = dfbank1.loc[ ~dfbank1[\"Education_Level\"].isin(['Doctorate']) , : ]"
   ]
  },
  {
   "cell_type": "code",
   "execution_count": 3169,
   "id": "d5f29e3c-2a51-4d44-9fdb-6213fd47736d",
   "metadata": {},
   "outputs": [
    {
     "data": {
      "text/html": [
       "<div>\n",
       "<style scoped>\n",
       "    .dataframe tbody tr th:only-of-type {\n",
       "        vertical-align: middle;\n",
       "    }\n",
       "\n",
       "    .dataframe tbody tr th {\n",
       "        vertical-align: top;\n",
       "    }\n",
       "\n",
       "    .dataframe thead th {\n",
       "        text-align: right;\n",
       "    }\n",
       "</style>\n",
       "<table border=\"1\" class=\"dataframe\">\n",
       "  <thead>\n",
       "    <tr style=\"text-align: right;\">\n",
       "      <th></th>\n",
       "      <th>CLIENTNUM</th>\n",
       "      <th>Attrition_Flag</th>\n",
       "      <th>Customer_Age</th>\n",
       "      <th>Gender</th>\n",
       "      <th>Dependent_count</th>\n",
       "      <th>Education_Level</th>\n",
       "      <th>Marital_Status</th>\n",
       "      <th>Income_Category</th>\n",
       "      <th>Card_Category</th>\n",
       "      <th>Months_on_book</th>\n",
       "      <th>...</th>\n",
       "      <th>Credit_Limit</th>\n",
       "      <th>Total_Revolving_Bal</th>\n",
       "      <th>Avg_Open_To_Buy</th>\n",
       "      <th>Total_Amt_Chng_Q4_Q1</th>\n",
       "      <th>Total_Trans_Amt</th>\n",
       "      <th>Total_Trans_Ct</th>\n",
       "      <th>Total_Ct_Chng_Q4_Q1</th>\n",
       "      <th>Avg_Utilization_Ratio</th>\n",
       "      <th>Naive_Bayes_Classifier_Attrition_Flag_Card_Category_Contacts_Count_12_mon_Dependent_count_Education_Level_Months_Inactive_12_mon_1</th>\n",
       "      <th>Naive_Bayes_Classifier_Attrition_Flag_Card_Category_Contacts_Count_12_mon_Dependent_count_Education_Level_Months_Inactive_12_mon_2</th>\n",
       "    </tr>\n",
       "  </thead>\n",
       "  <tbody>\n",
       "    <tr>\n",
       "      <th>0</th>\n",
       "      <td>768805383</td>\n",
       "      <td>Existing Customer</td>\n",
       "      <td>45</td>\n",
       "      <td>M</td>\n",
       "      <td>3</td>\n",
       "      <td>High School</td>\n",
       "      <td>Married</td>\n",
       "      <td>$60K - $80K</td>\n",
       "      <td>Blue</td>\n",
       "      <td>39</td>\n",
       "      <td>...</td>\n",
       "      <td>12691.0</td>\n",
       "      <td>777</td>\n",
       "      <td>11914.0</td>\n",
       "      <td>1.335</td>\n",
       "      <td>1144</td>\n",
       "      <td>42</td>\n",
       "      <td>1.625</td>\n",
       "      <td>0.061</td>\n",
       "      <td>0.000093</td>\n",
       "      <td>0.999910</td>\n",
       "    </tr>\n",
       "    <tr>\n",
       "      <th>1</th>\n",
       "      <td>818770008</td>\n",
       "      <td>Existing Customer</td>\n",
       "      <td>49</td>\n",
       "      <td>F</td>\n",
       "      <td>5</td>\n",
       "      <td>Graduate</td>\n",
       "      <td>Single</td>\n",
       "      <td>Less than $40K</td>\n",
       "      <td>Blue</td>\n",
       "      <td>44</td>\n",
       "      <td>...</td>\n",
       "      <td>8256.0</td>\n",
       "      <td>864</td>\n",
       "      <td>7392.0</td>\n",
       "      <td>1.541</td>\n",
       "      <td>1291</td>\n",
       "      <td>33</td>\n",
       "      <td>3.714</td>\n",
       "      <td>0.105</td>\n",
       "      <td>0.000057</td>\n",
       "      <td>0.999940</td>\n",
       "    </tr>\n",
       "    <tr>\n",
       "      <th>2</th>\n",
       "      <td>713982108</td>\n",
       "      <td>Existing Customer</td>\n",
       "      <td>51</td>\n",
       "      <td>M</td>\n",
       "      <td>3</td>\n",
       "      <td>Graduate</td>\n",
       "      <td>Married</td>\n",
       "      <td>$80K - $120K</td>\n",
       "      <td>Blue</td>\n",
       "      <td>36</td>\n",
       "      <td>...</td>\n",
       "      <td>3418.0</td>\n",
       "      <td>0</td>\n",
       "      <td>3418.0</td>\n",
       "      <td>2.594</td>\n",
       "      <td>1887</td>\n",
       "      <td>20</td>\n",
       "      <td>2.333</td>\n",
       "      <td>0.000</td>\n",
       "      <td>0.000021</td>\n",
       "      <td>0.999980</td>\n",
       "    </tr>\n",
       "    <tr>\n",
       "      <th>3</th>\n",
       "      <td>769911858</td>\n",
       "      <td>Existing Customer</td>\n",
       "      <td>40</td>\n",
       "      <td>F</td>\n",
       "      <td>4</td>\n",
       "      <td>High School</td>\n",
       "      <td>Others</td>\n",
       "      <td>Less than $40K</td>\n",
       "      <td>Blue</td>\n",
       "      <td>34</td>\n",
       "      <td>...</td>\n",
       "      <td>3313.0</td>\n",
       "      <td>2517</td>\n",
       "      <td>796.0</td>\n",
       "      <td>1.405</td>\n",
       "      <td>1171</td>\n",
       "      <td>20</td>\n",
       "      <td>2.333</td>\n",
       "      <td>0.760</td>\n",
       "      <td>0.000134</td>\n",
       "      <td>0.999870</td>\n",
       "    </tr>\n",
       "    <tr>\n",
       "      <th>4</th>\n",
       "      <td>709106358</td>\n",
       "      <td>Existing Customer</td>\n",
       "      <td>40</td>\n",
       "      <td>M</td>\n",
       "      <td>3</td>\n",
       "      <td>Uneducated</td>\n",
       "      <td>Married</td>\n",
       "      <td>$60K - $80K</td>\n",
       "      <td>Blue</td>\n",
       "      <td>21</td>\n",
       "      <td>...</td>\n",
       "      <td>4716.0</td>\n",
       "      <td>0</td>\n",
       "      <td>4716.0</td>\n",
       "      <td>2.175</td>\n",
       "      <td>816</td>\n",
       "      <td>28</td>\n",
       "      <td>2.500</td>\n",
       "      <td>0.000</td>\n",
       "      <td>0.000022</td>\n",
       "      <td>0.999980</td>\n",
       "    </tr>\n",
       "    <tr>\n",
       "      <th>...</th>\n",
       "      <td>...</td>\n",
       "      <td>...</td>\n",
       "      <td>...</td>\n",
       "      <td>...</td>\n",
       "      <td>...</td>\n",
       "      <td>...</td>\n",
       "      <td>...</td>\n",
       "      <td>...</td>\n",
       "      <td>...</td>\n",
       "      <td>...</td>\n",
       "      <td>...</td>\n",
       "      <td>...</td>\n",
       "      <td>...</td>\n",
       "      <td>...</td>\n",
       "      <td>...</td>\n",
       "      <td>...</td>\n",
       "      <td>...</td>\n",
       "      <td>...</td>\n",
       "      <td>...</td>\n",
       "      <td>...</td>\n",
       "      <td>...</td>\n",
       "    </tr>\n",
       "    <tr>\n",
       "      <th>10122</th>\n",
       "      <td>772366833</td>\n",
       "      <td>Existing Customer</td>\n",
       "      <td>50</td>\n",
       "      <td>M</td>\n",
       "      <td>2</td>\n",
       "      <td>Graduate</td>\n",
       "      <td>Single</td>\n",
       "      <td>$40K - $60K</td>\n",
       "      <td>Blue</td>\n",
       "      <td>40</td>\n",
       "      <td>...</td>\n",
       "      <td>4003.0</td>\n",
       "      <td>1851</td>\n",
       "      <td>2152.0</td>\n",
       "      <td>0.703</td>\n",
       "      <td>15476</td>\n",
       "      <td>117</td>\n",
       "      <td>0.857</td>\n",
       "      <td>0.462</td>\n",
       "      <td>0.000191</td>\n",
       "      <td>0.999810</td>\n",
       "    </tr>\n",
       "    <tr>\n",
       "      <th>10123</th>\n",
       "      <td>710638233</td>\n",
       "      <td>Attrited Customer</td>\n",
       "      <td>41</td>\n",
       "      <td>M</td>\n",
       "      <td>2</td>\n",
       "      <td>Others</td>\n",
       "      <td>Divorced</td>\n",
       "      <td>$40K - $60K</td>\n",
       "      <td>Blue</td>\n",
       "      <td>25</td>\n",
       "      <td>...</td>\n",
       "      <td>4277.0</td>\n",
       "      <td>2186</td>\n",
       "      <td>2091.0</td>\n",
       "      <td>0.804</td>\n",
       "      <td>8764</td>\n",
       "      <td>69</td>\n",
       "      <td>0.683</td>\n",
       "      <td>0.511</td>\n",
       "      <td>0.995270</td>\n",
       "      <td>0.004729</td>\n",
       "    </tr>\n",
       "    <tr>\n",
       "      <th>10124</th>\n",
       "      <td>716506083</td>\n",
       "      <td>Attrited Customer</td>\n",
       "      <td>44</td>\n",
       "      <td>F</td>\n",
       "      <td>1</td>\n",
       "      <td>High School</td>\n",
       "      <td>Married</td>\n",
       "      <td>Less than $40K</td>\n",
       "      <td>Blue</td>\n",
       "      <td>36</td>\n",
       "      <td>...</td>\n",
       "      <td>5409.0</td>\n",
       "      <td>0</td>\n",
       "      <td>5409.0</td>\n",
       "      <td>0.819</td>\n",
       "      <td>10291</td>\n",
       "      <td>60</td>\n",
       "      <td>0.818</td>\n",
       "      <td>0.000</td>\n",
       "      <td>0.997880</td>\n",
       "      <td>0.002118</td>\n",
       "    </tr>\n",
       "    <tr>\n",
       "      <th>10125</th>\n",
       "      <td>717406983</td>\n",
       "      <td>Attrited Customer</td>\n",
       "      <td>30</td>\n",
       "      <td>M</td>\n",
       "      <td>2</td>\n",
       "      <td>Graduate</td>\n",
       "      <td>Others</td>\n",
       "      <td>$40K - $60K</td>\n",
       "      <td>Blue</td>\n",
       "      <td>36</td>\n",
       "      <td>...</td>\n",
       "      <td>5281.0</td>\n",
       "      <td>0</td>\n",
       "      <td>5281.0</td>\n",
       "      <td>0.535</td>\n",
       "      <td>8395</td>\n",
       "      <td>62</td>\n",
       "      <td>0.722</td>\n",
       "      <td>0.000</td>\n",
       "      <td>0.996710</td>\n",
       "      <td>0.003294</td>\n",
       "    </tr>\n",
       "    <tr>\n",
       "      <th>10126</th>\n",
       "      <td>714337233</td>\n",
       "      <td>Attrited Customer</td>\n",
       "      <td>43</td>\n",
       "      <td>F</td>\n",
       "      <td>2</td>\n",
       "      <td>Graduate</td>\n",
       "      <td>Married</td>\n",
       "      <td>Less than $40K</td>\n",
       "      <td>Silver</td>\n",
       "      <td>25</td>\n",
       "      <td>...</td>\n",
       "      <td>10388.0</td>\n",
       "      <td>1961</td>\n",
       "      <td>8427.0</td>\n",
       "      <td>0.703</td>\n",
       "      <td>10294</td>\n",
       "      <td>61</td>\n",
       "      <td>0.649</td>\n",
       "      <td>0.189</td>\n",
       "      <td>0.996620</td>\n",
       "      <td>0.003377</td>\n",
       "    </tr>\n",
       "  </tbody>\n",
       "</table>\n",
       "<p>9547 rows × 23 columns</p>\n",
       "</div>"
      ],
      "text/plain": [
       "       CLIENTNUM     Attrition_Flag  Customer_Age Gender  Dependent_count  \\\n",
       "0      768805383  Existing Customer            45      M                3   \n",
       "1      818770008  Existing Customer            49      F                5   \n",
       "2      713982108  Existing Customer            51      M                3   \n",
       "3      769911858  Existing Customer            40      F                4   \n",
       "4      709106358  Existing Customer            40      M                3   \n",
       "...          ...                ...           ...    ...              ...   \n",
       "10122  772366833  Existing Customer            50      M                2   \n",
       "10123  710638233  Attrited Customer            41      M                2   \n",
       "10124  716506083  Attrited Customer            44      F                1   \n",
       "10125  717406983  Attrited Customer            30      M                2   \n",
       "10126  714337233  Attrited Customer            43      F                2   \n",
       "\n",
       "      Education_Level Marital_Status Income_Category Card_Category  \\\n",
       "0         High School        Married     $60K - $80K          Blue   \n",
       "1            Graduate         Single  Less than $40K          Blue   \n",
       "2            Graduate        Married    $80K - $120K          Blue   \n",
       "3         High School         Others  Less than $40K          Blue   \n",
       "4          Uneducated        Married     $60K - $80K          Blue   \n",
       "...               ...            ...             ...           ...   \n",
       "10122        Graduate         Single     $40K - $60K          Blue   \n",
       "10123          Others       Divorced     $40K - $60K          Blue   \n",
       "10124     High School        Married  Less than $40K          Blue   \n",
       "10125        Graduate         Others     $40K - $60K          Blue   \n",
       "10126        Graduate        Married  Less than $40K        Silver   \n",
       "\n",
       "       Months_on_book  ...  Credit_Limit  Total_Revolving_Bal  \\\n",
       "0                  39  ...       12691.0                  777   \n",
       "1                  44  ...        8256.0                  864   \n",
       "2                  36  ...        3418.0                    0   \n",
       "3                  34  ...        3313.0                 2517   \n",
       "4                  21  ...        4716.0                    0   \n",
       "...               ...  ...           ...                  ...   \n",
       "10122              40  ...        4003.0                 1851   \n",
       "10123              25  ...        4277.0                 2186   \n",
       "10124              36  ...        5409.0                    0   \n",
       "10125              36  ...        5281.0                    0   \n",
       "10126              25  ...       10388.0                 1961   \n",
       "\n",
       "       Avg_Open_To_Buy  Total_Amt_Chng_Q4_Q1  Total_Trans_Amt  Total_Trans_Ct  \\\n",
       "0              11914.0                 1.335             1144              42   \n",
       "1               7392.0                 1.541             1291              33   \n",
       "2               3418.0                 2.594             1887              20   \n",
       "3                796.0                 1.405             1171              20   \n",
       "4               4716.0                 2.175              816              28   \n",
       "...                ...                   ...              ...             ...   \n",
       "10122           2152.0                 0.703            15476             117   \n",
       "10123           2091.0                 0.804             8764              69   \n",
       "10124           5409.0                 0.819            10291              60   \n",
       "10125           5281.0                 0.535             8395              62   \n",
       "10126           8427.0                 0.703            10294              61   \n",
       "\n",
       "       Total_Ct_Chng_Q4_Q1  Avg_Utilization_Ratio  \\\n",
       "0                    1.625                  0.061   \n",
       "1                    3.714                  0.105   \n",
       "2                    2.333                  0.000   \n",
       "3                    2.333                  0.760   \n",
       "4                    2.500                  0.000   \n",
       "...                    ...                    ...   \n",
       "10122                0.857                  0.462   \n",
       "10123                0.683                  0.511   \n",
       "10124                0.818                  0.000   \n",
       "10125                0.722                  0.000   \n",
       "10126                0.649                  0.189   \n",
       "\n",
       "       Naive_Bayes_Classifier_Attrition_Flag_Card_Category_Contacts_Count_12_mon_Dependent_count_Education_Level_Months_Inactive_12_mon_1  \\\n",
       "0                                               0.000093                                                                                    \n",
       "1                                               0.000057                                                                                    \n",
       "2                                               0.000021                                                                                    \n",
       "3                                               0.000134                                                                                    \n",
       "4                                               0.000022                                                                                    \n",
       "...                                                  ...                                                                                    \n",
       "10122                                           0.000191                                                                                    \n",
       "10123                                           0.995270                                                                                    \n",
       "10124                                           0.997880                                                                                    \n",
       "10125                                           0.996710                                                                                    \n",
       "10126                                           0.996620                                                                                    \n",
       "\n",
       "       Naive_Bayes_Classifier_Attrition_Flag_Card_Category_Contacts_Count_12_mon_Dependent_count_Education_Level_Months_Inactive_12_mon_2  \n",
       "0                                               0.999910                                                                                   \n",
       "1                                               0.999940                                                                                   \n",
       "2                                               0.999980                                                                                   \n",
       "3                                               0.999870                                                                                   \n",
       "4                                               0.999980                                                                                   \n",
       "...                                                  ...                                                                                   \n",
       "10122                                           0.999810                                                                                   \n",
       "10123                                           0.004729                                                                                   \n",
       "10124                                           0.002118                                                                                   \n",
       "10125                                           0.003294                                                                                   \n",
       "10126                                           0.003377                                                                                   \n",
       "\n",
       "[9547 rows x 23 columns]"
      ]
     },
     "execution_count": 3169,
     "metadata": {},
     "output_type": "execute_result"
    }
   ],
   "source": [
    "dfbank1"
   ]
  },
  {
   "cell_type": "markdown",
   "id": "79bffcde-9228-4ac1-87a2-d51a85220794",
   "metadata": {},
   "source": [
    "### Analizamos el genero, categoria de tarjeta e ingresos, donde pudimos encontrar que el genero femenino tiene mayor valores atipicos"
   ]
  },
  {
   "cell_type": "code",
   "execution_count": 3170,
   "id": "70f71d33-6503-4885-999c-7ec553999b47",
   "metadata": {},
   "outputs": [
    {
     "data": {
      "text/plain": [
       "<AxesSubplot:xlabel='Income_Category', ylabel='Credit_Limit'>"
      ]
     },
     "execution_count": 3170,
     "metadata": {},
     "output_type": "execute_result"
    },
    {
     "data": {
      "image/png": "[encoded data removed]",
      "text/plain": [
       "<Figure size 432x288 with 1 Axes>"
      ]
     },
     "metadata": {
      "needs_background": "light"
     },
     "output_type": "display_data"
    }
   ],
   "source": [
    "sns.boxplot( data=dfbank1.loc[(dfbank1['Gender']=='F') & (dfbank1['Card_Category']=='Blue'),:]  , x=\"Income_Category\" , y=\"Credit_Limit\" )"
   ]
  },
  {
   "cell_type": "code",
   "execution_count": 3171,
   "id": "61e1814a-326f-469e-bef6-b16d286a8524",
   "metadata": {},
   "outputs": [
    {
     "data": {
      "text/plain": [
       "<AxesSubplot:xlabel='Income_Category', ylabel='Credit_Limit'>"
      ]
     },
     "execution_count": 3171,
     "metadata": {},
     "output_type": "execute_result"
    },
    {
     "data": {
      "image/png": "[encoded data removed]",
      "text/plain": [
       "<Figure size 432x288 with 1 Axes>"
      ]
     },
     "metadata": {
      "needs_background": "light"
     },
     "output_type": "display_data"
    }
   ],
   "source": [
    "sns.boxplot( data=dfbank1.loc[ (dfbank1[\"Card_Category\"]=='Blue') , : ]  , x=\"Income_Category\" , y=\"Credit_Limit\" )"
   ]
  },
  {
   "cell_type": "code",
   "execution_count": 3172,
   "id": "33d33d3c-12f2-42cc-91b7-7f697c4f97f6",
   "metadata": {},
   "outputs": [
    {
     "data": {
      "text/plain": [
       "<AxesSubplot:xlabel='Income_Category', ylabel='Credit_Limit'>"
      ]
     },
     "execution_count": 3172,
     "metadata": {},
     "output_type": "execute_result"
    },
    {
     "data": {
      "image/png": "[encoded data removed]",
      "text/plain": [
       "<Figure size 432x288 with 1 Axes>"
      ]
     },
     "metadata": {
      "needs_background": "light"
     },
     "output_type": "display_data"
    }
   ],
   "source": [
    "sns.boxplot( data=dfbank1.loc[ (dfbank1[\"Card_Category\"]=='Silver') , : ]  , x=\"Income_Category\" , y=\"Credit_Limit\" )"
   ]
  },
  {
   "cell_type": "markdown",
   "id": "9340c6f7-7ed6-4c93-8661-12e0c4f761b6",
   "metadata": {},
   "source": [
    "### Analizamos la cantidad de meses , categoria de tarjeta e ingresos"
   ]
  },
  {
   "cell_type": "code",
   "execution_count": 3173,
   "id": "592ada17-bca5-482f-8808-9344339f4b53",
   "metadata": {},
   "outputs": [
    {
     "data": {
      "text/plain": [
       "<AxesSubplot:xlabel='Months_on_book', ylabel='Credit_Limit'>"
      ]
     },
     "execution_count": 3173,
     "metadata": {},
     "output_type": "execute_result"
    },
    {
     "data": {
      "image/png": "[encoded data removed]",
      "text/plain": [
       "<Figure size 432x288 with 1 Axes>"
      ]
     },
     "metadata": {
      "needs_background": "light"
     },
     "output_type": "display_data"
    }
   ],
   "source": [
    "sns.boxplot( data=dfbank1.loc[(dfbank1['Card_Category']=='Blue')  & (dfbank1['Income_Category']=='Less than $40K')  ,:]  , x=\"Months_on_book\" , y=\"Credit_Limit\" )"
   ]
  },
  {
   "cell_type": "markdown",
   "id": "8f024b6f-b64d-4b36-b8db-fd5cf9fad999",
   "metadata": {},
   "source": [
    "### Estratificamos los clientes en base a su categoria de tarjeta, sus ingresos y la antiguedad del cliente, esto nos pemitira hacer comparaciones en base a la antiguedad e ingresos de un cliente ya que se esperaria que un cliente con mayor antiguedad y ademas tenga ingresos arriba de 120k tenga un limite de credito mayor a diferencia de un cliente que tiene poca antiguedad y ademas sus ingresos son inferiores a 40k "
   ]
  },
  {
   "cell_type": "code",
   "execution_count": 3174,
   "id": "57ad8706-851a-4ada-bed7-b3568a903ff2",
   "metadata": {},
   "outputs": [],
   "source": [
    "dfq1 = dfbank1.loc[ : , [\"Credit_Limit\",'Income_Category','Months_on_book'] ].groupby( ['Income_Category','Months_on_book'] , as_index = False ).quantile(0.25)\n",
    "dfq1.columns = ['Income_Category','Months_on_book',\"Credit_q1\"]"
   ]
  },
  {
   "cell_type": "code",
   "execution_count": 3175,
   "id": "107b1ca3-a70d-48dd-903b-bbd338af6eb7",
   "metadata": {},
   "outputs": [],
   "source": [
    "dfq3 = dfbank1.loc[ : , [\"Credit_Limit\",'Income_Category','Months_on_book'] ].groupby( ['Income_Category','Months_on_book'], as_index = False ).quantile(0.75)\n",
    "dfq3.columns = ['Income_Category','Months_on_book',\"Credit_q3\"]"
   ]
  },
  {
   "cell_type": "code",
   "execution_count": 3176,
   "id": "fbdc622d-8994-459b-af41-1604aa538aef",
   "metadata": {},
   "outputs": [],
   "source": [
    "dfq2 = dfbank1.loc[ : , [\"Credit_Limit\",'Income_Category','Months_on_book'] ].groupby(['Income_Category','Months_on_book']  , as_index = False ).mean()\n",
    "dfq2.columns = ['Income_Category','Months_on_book',\"Credit_Mean\"]"
   ]
  },
  {
   "cell_type": "code",
   "execution_count": 3177,
   "id": "3a803e7e-b4af-447a-a305-025b81463ec8",
   "metadata": {},
   "outputs": [],
   "source": [
    "df_iqr = dfq1.merge( dfq3 , on=['Income_Category','Months_on_book'], how=\"inner\" ).merge( dfq2 , on=['Income_Category','Months_on_book'], how=\"inner\" )"
   ]
  },
  {
   "cell_type": "code",
   "execution_count": 3178,
   "id": "3e74eea5-fa63-40ac-8e32-94247f0893b1",
   "metadata": {},
   "outputs": [
    {
     "data": {
      "text/plain": [
       "(262, 5)"
      ]
     },
     "execution_count": 3178,
     "metadata": {},
     "output_type": "execute_result"
    }
   ],
   "source": [
    "df_iqr.shape"
   ]
  },
  {
   "cell_type": "code",
   "execution_count": 3179,
   "id": "70106ad8-2c7c-4bd0-b805-d3ce6bba9fbf",
   "metadata": {},
   "outputs": [],
   "source": [
    "df_iqr[\"iqr\"] = df_iqr.apply( lambda r: r[\"Credit_q3\"] - r[\"Credit_q1\"] , axis = 1)"
   ]
  },
  {
   "cell_type": "code",
   "execution_count": 3180,
   "id": "d59545d3-5d0b-4db6-b7a8-060025dbdab5",
   "metadata": {},
   "outputs": [],
   "source": [
    "df_iqr[\"upper\"] = df_iqr.apply( lambda r: ( r[\"Credit_q3\"] + 1.5*r[\"iqr\"] ) , axis = 1)\n",
    "df_iqr[\"lower\"] = df_iqr.apply( lambda r: ( r[\"Credit_q1\"] - 1.5*r[\"iqr\"] ) , axis = 1)"
   ]
  },
  {
   "cell_type": "code",
   "execution_count": 3181,
   "id": "757c0a66-d5ff-4d26-8c38-3742f3661c56",
   "metadata": {},
   "outputs": [
    {
     "data": {
      "text/html": [
       "<div>\n",
       "<style scoped>\n",
       "    .dataframe tbody tr th:only-of-type {\n",
       "        vertical-align: middle;\n",
       "    }\n",
       "\n",
       "    .dataframe tbody tr th {\n",
       "        vertical-align: top;\n",
       "    }\n",
       "\n",
       "    .dataframe thead th {\n",
       "        text-align: right;\n",
       "    }\n",
       "</style>\n",
       "<table border=\"1\" class=\"dataframe\">\n",
       "  <thead>\n",
       "    <tr style=\"text-align: right;\">\n",
       "      <th></th>\n",
       "      <th>Income_Category</th>\n",
       "      <th>Months_on_book</th>\n",
       "      <th>Credit_q1</th>\n",
       "      <th>Credit_q3</th>\n",
       "      <th>Credit_Mean</th>\n",
       "      <th>iqr</th>\n",
       "      <th>upper</th>\n",
       "      <th>lower</th>\n",
       "    </tr>\n",
       "  </thead>\n",
       "  <tbody>\n",
       "    <tr>\n",
       "      <th>0</th>\n",
       "      <td>$120K +</td>\n",
       "      <td>13</td>\n",
       "      <td>5528.50</td>\n",
       "      <td>7847.50</td>\n",
       "      <td>6688.00</td>\n",
       "      <td>2319.00</td>\n",
       "      <td>11326.000</td>\n",
       "      <td>2050.000</td>\n",
       "    </tr>\n",
       "    <tr>\n",
       "      <th>1</th>\n",
       "      <td>$120K +</td>\n",
       "      <td>14</td>\n",
       "      <td>3053.75</td>\n",
       "      <td>6065.25</td>\n",
       "      <td>4559.50</td>\n",
       "      <td>3011.50</td>\n",
       "      <td>10582.500</td>\n",
       "      <td>-1463.500</td>\n",
       "    </tr>\n",
       "    <tr>\n",
       "      <th>2</th>\n",
       "      <td>$120K +</td>\n",
       "      <td>15</td>\n",
       "      <td>25033.00</td>\n",
       "      <td>25033.00</td>\n",
       "      <td>25033.00</td>\n",
       "      <td>0.00</td>\n",
       "      <td>25033.000</td>\n",
       "      <td>25033.000</td>\n",
       "    </tr>\n",
       "    <tr>\n",
       "      <th>3</th>\n",
       "      <td>$120K +</td>\n",
       "      <td>16</td>\n",
       "      <td>4255.75</td>\n",
       "      <td>8555.25</td>\n",
       "      <td>6405.50</td>\n",
       "      <td>4299.50</td>\n",
       "      <td>15004.500</td>\n",
       "      <td>-2193.500</td>\n",
       "    </tr>\n",
       "    <tr>\n",
       "      <th>4</th>\n",
       "      <td>$120K +</td>\n",
       "      <td>17</td>\n",
       "      <td>7792.25</td>\n",
       "      <td>31825.00</td>\n",
       "      <td>19796.75</td>\n",
       "      <td>24032.75</td>\n",
       "      <td>67874.125</td>\n",
       "      <td>-28256.875</td>\n",
       "    </tr>\n",
       "  </tbody>\n",
       "</table>\n",
       "</div>"
      ],
      "text/plain": [
       "  Income_Category  Months_on_book  Credit_q1  Credit_q3  Credit_Mean  \\\n",
       "0         $120K +              13    5528.50    7847.50      6688.00   \n",
       "1         $120K +              14    3053.75    6065.25      4559.50   \n",
       "2         $120K +              15   25033.00   25033.00     25033.00   \n",
       "3         $120K +              16    4255.75    8555.25      6405.50   \n",
       "4         $120K +              17    7792.25   31825.00     19796.75   \n",
       "\n",
       "        iqr      upper      lower  \n",
       "0   2319.00  11326.000   2050.000  \n",
       "1   3011.50  10582.500  -1463.500  \n",
       "2      0.00  25033.000  25033.000  \n",
       "3   4299.50  15004.500  -2193.500  \n",
       "4  24032.75  67874.125 -28256.875  "
      ]
     },
     "execution_count": 3181,
     "metadata": {},
     "output_type": "execute_result"
    }
   ],
   "source": [
    "df_iqr.head()"
   ]
  },
  {
   "cell_type": "code",
   "execution_count": 3182,
   "id": "96d085cd-5c7a-4443-a4f4-efc57de9a13e",
   "metadata": {},
   "outputs": [],
   "source": [
    "df_t = dfbank1.merge( df_iqr , how=\"left\" , on=['Income_Category','Months_on_book'])"
   ]
  },
  {
   "cell_type": "code",
   "execution_count": 3183,
   "id": "802f231e-b83b-4098-91c5-b68a029fe918",
   "metadata": {},
   "outputs": [],
   "source": [
    "def getRealPrice(r):\n",
    "    if ( r[\"Credit_Limit\"] <= r[\"lower\"] ) | ( r[\"Credit_Limit\"] >= r[\"upper\"] ):\n",
    "        return r[\"Credit_Mean\"]\n",
    "    else:\n",
    "        return r[\"Credit_Limit\"]"
   ]
  },
  {
   "cell_type": "code",
   "execution_count": 3184,
   "id": "7cd372f6-168a-4e69-a30c-8c62b473c6b4",
   "metadata": {},
   "outputs": [],
   "source": [
    "df_t[\"new_Credit_limit\"] = df_t.apply( lambda r: getRealPrice(r) , axis = 1 )"
   ]
  },
  {
   "cell_type": "code",
   "execution_count": 3185,
   "id": "afebb016-1c11-48c6-a268-9f694b2ebeda",
   "metadata": {},
   "outputs": [
    {
     "data": {
      "text/html": [
       "<div>\n",
       "<style scoped>\n",
       "    .dataframe tbody tr th:only-of-type {\n",
       "        vertical-align: middle;\n",
       "    }\n",
       "\n",
       "    .dataframe tbody tr th {\n",
       "        vertical-align: top;\n",
       "    }\n",
       "\n",
       "    .dataframe thead th {\n",
       "        text-align: right;\n",
       "    }\n",
       "</style>\n",
       "<table border=\"1\" class=\"dataframe\">\n",
       "  <thead>\n",
       "    <tr style=\"text-align: right;\">\n",
       "      <th></th>\n",
       "      <th>CLIENTNUM</th>\n",
       "      <th>Attrition_Flag</th>\n",
       "      <th>Customer_Age</th>\n",
       "      <th>Gender</th>\n",
       "      <th>Dependent_count</th>\n",
       "      <th>Education_Level</th>\n",
       "      <th>Marital_Status</th>\n",
       "      <th>Income_Category</th>\n",
       "      <th>Card_Category</th>\n",
       "      <th>Months_on_book</th>\n",
       "      <th>...</th>\n",
       "      <th>Avg_Utilization_Ratio</th>\n",
       "      <th>Naive_Bayes_Classifier_Attrition_Flag_Card_Category_Contacts_Count_12_mon_Dependent_count_Education_Level_Months_Inactive_12_mon_1</th>\n",
       "      <th>Naive_Bayes_Classifier_Attrition_Flag_Card_Category_Contacts_Count_12_mon_Dependent_count_Education_Level_Months_Inactive_12_mon_2</th>\n",
       "      <th>Credit_q1</th>\n",
       "      <th>Credit_q3</th>\n",
       "      <th>Credit_Mean</th>\n",
       "      <th>iqr</th>\n",
       "      <th>upper</th>\n",
       "      <th>lower</th>\n",
       "      <th>new_Credit_limit</th>\n",
       "    </tr>\n",
       "  </thead>\n",
       "  <tbody>\n",
       "    <tr>\n",
       "      <th>0</th>\n",
       "      <td>768805383</td>\n",
       "      <td>Existing Customer</td>\n",
       "      <td>45</td>\n",
       "      <td>M</td>\n",
       "      <td>3</td>\n",
       "      <td>High School</td>\n",
       "      <td>Married</td>\n",
       "      <td>$60K - $80K</td>\n",
       "      <td>Blue</td>\n",
       "      <td>39</td>\n",
       "      <td>...</td>\n",
       "      <td>0.061</td>\n",
       "      <td>0.000093</td>\n",
       "      <td>0.999910</td>\n",
       "      <td>5411.00</td>\n",
       "      <td>15503.50</td>\n",
       "      <td>11424.340426</td>\n",
       "      <td>10092.50</td>\n",
       "      <td>30642.250</td>\n",
       "      <td>-9727.750</td>\n",
       "      <td>12691.000000</td>\n",
       "    </tr>\n",
       "    <tr>\n",
       "      <th>1</th>\n",
       "      <td>818770008</td>\n",
       "      <td>Existing Customer</td>\n",
       "      <td>49</td>\n",
       "      <td>F</td>\n",
       "      <td>5</td>\n",
       "      <td>Graduate</td>\n",
       "      <td>Single</td>\n",
       "      <td>Less than $40K</td>\n",
       "      <td>Blue</td>\n",
       "      <td>44</td>\n",
       "      <td>...</td>\n",
       "      <td>0.105</td>\n",
       "      <td>0.000057</td>\n",
       "      <td>0.999940</td>\n",
       "      <td>2027.75</td>\n",
       "      <td>4383.50</td>\n",
       "      <td>3680.313514</td>\n",
       "      <td>2355.75</td>\n",
       "      <td>7917.125</td>\n",
       "      <td>-1505.875</td>\n",
       "      <td>3680.313514</td>\n",
       "    </tr>\n",
       "    <tr>\n",
       "      <th>2</th>\n",
       "      <td>713982108</td>\n",
       "      <td>Existing Customer</td>\n",
       "      <td>51</td>\n",
       "      <td>M</td>\n",
       "      <td>3</td>\n",
       "      <td>Graduate</td>\n",
       "      <td>Married</td>\n",
       "      <td>$80K - $120K</td>\n",
       "      <td>Blue</td>\n",
       "      <td>36</td>\n",
       "      <td>...</td>\n",
       "      <td>0.000</td>\n",
       "      <td>0.000021</td>\n",
       "      <td>0.999980</td>\n",
       "      <td>5073.00</td>\n",
       "      <td>24862.75</td>\n",
       "      <td>15750.760000</td>\n",
       "      <td>19789.75</td>\n",
       "      <td>54547.375</td>\n",
       "      <td>-24611.625</td>\n",
       "      <td>3418.000000</td>\n",
       "    </tr>\n",
       "    <tr>\n",
       "      <th>3</th>\n",
       "      <td>769911858</td>\n",
       "      <td>Existing Customer</td>\n",
       "      <td>40</td>\n",
       "      <td>F</td>\n",
       "      <td>4</td>\n",
       "      <td>High School</td>\n",
       "      <td>Others</td>\n",
       "      <td>Less than $40K</td>\n",
       "      <td>Blue</td>\n",
       "      <td>34</td>\n",
       "      <td>...</td>\n",
       "      <td>0.760</td>\n",
       "      <td>0.000134</td>\n",
       "      <td>0.999870</td>\n",
       "      <td>2163.50</td>\n",
       "      <td>5198.50</td>\n",
       "      <td>4243.331313</td>\n",
       "      <td>3035.00</td>\n",
       "      <td>9751.000</td>\n",
       "      <td>-2389.000</td>\n",
       "      <td>3313.000000</td>\n",
       "    </tr>\n",
       "    <tr>\n",
       "      <th>4</th>\n",
       "      <td>709106358</td>\n",
       "      <td>Existing Customer</td>\n",
       "      <td>40</td>\n",
       "      <td>M</td>\n",
       "      <td>3</td>\n",
       "      <td>Uneducated</td>\n",
       "      <td>Married</td>\n",
       "      <td>$60K - $80K</td>\n",
       "      <td>Blue</td>\n",
       "      <td>21</td>\n",
       "      <td>...</td>\n",
       "      <td>0.000</td>\n",
       "      <td>0.000022</td>\n",
       "      <td>0.999980</td>\n",
       "      <td>4716.00</td>\n",
       "      <td>12763.00</td>\n",
       "      <td>9651.666667</td>\n",
       "      <td>8047.00</td>\n",
       "      <td>24833.500</td>\n",
       "      <td>-7354.500</td>\n",
       "      <td>4716.000000</td>\n",
       "    </tr>\n",
       "    <tr>\n",
       "      <th>...</th>\n",
       "      <td>...</td>\n",
       "      <td>...</td>\n",
       "      <td>...</td>\n",
       "      <td>...</td>\n",
       "      <td>...</td>\n",
       "      <td>...</td>\n",
       "      <td>...</td>\n",
       "      <td>...</td>\n",
       "      <td>...</td>\n",
       "      <td>...</td>\n",
       "      <td>...</td>\n",
       "      <td>...</td>\n",
       "      <td>...</td>\n",
       "      <td>...</td>\n",
       "      <td>...</td>\n",
       "      <td>...</td>\n",
       "      <td>...</td>\n",
       "      <td>...</td>\n",
       "      <td>...</td>\n",
       "      <td>...</td>\n",
       "      <td>...</td>\n",
       "    </tr>\n",
       "    <tr>\n",
       "      <th>9542</th>\n",
       "      <td>772366833</td>\n",
       "      <td>Existing Customer</td>\n",
       "      <td>50</td>\n",
       "      <td>M</td>\n",
       "      <td>2</td>\n",
       "      <td>Graduate</td>\n",
       "      <td>Single</td>\n",
       "      <td>$40K - $60K</td>\n",
       "      <td>Blue</td>\n",
       "      <td>40</td>\n",
       "      <td>...</td>\n",
       "      <td>0.462</td>\n",
       "      <td>0.000191</td>\n",
       "      <td>0.999810</td>\n",
       "      <td>2595.75</td>\n",
       "      <td>7226.50</td>\n",
       "      <td>5765.587500</td>\n",
       "      <td>4630.75</td>\n",
       "      <td>14172.625</td>\n",
       "      <td>-4350.375</td>\n",
       "      <td>4003.000000</td>\n",
       "    </tr>\n",
       "    <tr>\n",
       "      <th>9543</th>\n",
       "      <td>710638233</td>\n",
       "      <td>Attrited Customer</td>\n",
       "      <td>41</td>\n",
       "      <td>M</td>\n",
       "      <td>2</td>\n",
       "      <td>Others</td>\n",
       "      <td>Divorced</td>\n",
       "      <td>$40K - $60K</td>\n",
       "      <td>Blue</td>\n",
       "      <td>25</td>\n",
       "      <td>...</td>\n",
       "      <td>0.511</td>\n",
       "      <td>0.995270</td>\n",
       "      <td>0.004729</td>\n",
       "      <td>1935.00</td>\n",
       "      <td>5801.00</td>\n",
       "      <td>4527.696552</td>\n",
       "      <td>3866.00</td>\n",
       "      <td>11600.000</td>\n",
       "      <td>-3864.000</td>\n",
       "      <td>4277.000000</td>\n",
       "    </tr>\n",
       "    <tr>\n",
       "      <th>9544</th>\n",
       "      <td>716506083</td>\n",
       "      <td>Attrited Customer</td>\n",
       "      <td>44</td>\n",
       "      <td>F</td>\n",
       "      <td>1</td>\n",
       "      <td>High School</td>\n",
       "      <td>Married</td>\n",
       "      <td>Less than $40K</td>\n",
       "      <td>Blue</td>\n",
       "      <td>36</td>\n",
       "      <td>...</td>\n",
       "      <td>0.000</td>\n",
       "      <td>0.997880</td>\n",
       "      <td>0.002118</td>\n",
       "      <td>1972.25</td>\n",
       "      <td>4150.00</td>\n",
       "      <td>3641.295546</td>\n",
       "      <td>2177.75</td>\n",
       "      <td>7416.625</td>\n",
       "      <td>-1294.375</td>\n",
       "      <td>5409.000000</td>\n",
       "    </tr>\n",
       "    <tr>\n",
       "      <th>9545</th>\n",
       "      <td>717406983</td>\n",
       "      <td>Attrited Customer</td>\n",
       "      <td>30</td>\n",
       "      <td>M</td>\n",
       "      <td>2</td>\n",
       "      <td>Graduate</td>\n",
       "      <td>Others</td>\n",
       "      <td>$40K - $60K</td>\n",
       "      <td>Blue</td>\n",
       "      <td>36</td>\n",
       "      <td>...</td>\n",
       "      <td>0.000</td>\n",
       "      <td>0.996710</td>\n",
       "      <td>0.003294</td>\n",
       "      <td>2404.25</td>\n",
       "      <td>6380.00</td>\n",
       "      <td>5248.575526</td>\n",
       "      <td>3975.75</td>\n",
       "      <td>12343.625</td>\n",
       "      <td>-3559.375</td>\n",
       "      <td>5281.000000</td>\n",
       "    </tr>\n",
       "    <tr>\n",
       "      <th>9546</th>\n",
       "      <td>714337233</td>\n",
       "      <td>Attrited Customer</td>\n",
       "      <td>43</td>\n",
       "      <td>F</td>\n",
       "      <td>2</td>\n",
       "      <td>Graduate</td>\n",
       "      <td>Married</td>\n",
       "      <td>Less than $40K</td>\n",
       "      <td>Silver</td>\n",
       "      <td>25</td>\n",
       "      <td>...</td>\n",
       "      <td>0.189</td>\n",
       "      <td>0.996620</td>\n",
       "      <td>0.003377</td>\n",
       "      <td>2085.25</td>\n",
       "      <td>4049.75</td>\n",
       "      <td>3780.929630</td>\n",
       "      <td>1964.50</td>\n",
       "      <td>6996.500</td>\n",
       "      <td>-861.500</td>\n",
       "      <td>3780.929630</td>\n",
       "    </tr>\n",
       "  </tbody>\n",
       "</table>\n",
       "<p>9547 rows × 30 columns</p>\n",
       "</div>"
      ],
      "text/plain": [
       "      CLIENTNUM     Attrition_Flag  Customer_Age Gender  Dependent_count  \\\n",
       "0     768805383  Existing Customer            45      M                3   \n",
       "1     818770008  Existing Customer            49      F                5   \n",
       "2     713982108  Existing Customer            51      M                3   \n",
       "3     769911858  Existing Customer            40      F                4   \n",
       "4     709106358  Existing Customer            40      M                3   \n",
       "...         ...                ...           ...    ...              ...   \n",
       "9542  772366833  Existing Customer            50      M                2   \n",
       "9543  710638233  Attrited Customer            41      M                2   \n",
       "9544  716506083  Attrited Customer            44      F                1   \n",
       "9545  717406983  Attrited Customer            30      M                2   \n",
       "9546  714337233  Attrited Customer            43      F                2   \n",
       "\n",
       "     Education_Level Marital_Status Income_Category Card_Category  \\\n",
       "0        High School        Married     $60K - $80K          Blue   \n",
       "1           Graduate         Single  Less than $40K          Blue   \n",
       "2           Graduate        Married    $80K - $120K          Blue   \n",
       "3        High School         Others  Less than $40K          Blue   \n",
       "4         Uneducated        Married     $60K - $80K          Blue   \n",
       "...              ...            ...             ...           ...   \n",
       "9542        Graduate         Single     $40K - $60K          Blue   \n",
       "9543          Others       Divorced     $40K - $60K          Blue   \n",
       "9544     High School        Married  Less than $40K          Blue   \n",
       "9545        Graduate         Others     $40K - $60K          Blue   \n",
       "9546        Graduate        Married  Less than $40K        Silver   \n",
       "\n",
       "      Months_on_book  ...  Avg_Utilization_Ratio  \\\n",
       "0                 39  ...                  0.061   \n",
       "1                 44  ...                  0.105   \n",
       "2                 36  ...                  0.000   \n",
       "3                 34  ...                  0.760   \n",
       "4                 21  ...                  0.000   \n",
       "...              ...  ...                    ...   \n",
       "9542              40  ...                  0.462   \n",
       "9543              25  ...                  0.511   \n",
       "9544              36  ...                  0.000   \n",
       "9545              36  ...                  0.000   \n",
       "9546              25  ...                  0.189   \n",
       "\n",
       "      Naive_Bayes_Classifier_Attrition_Flag_Card_Category_Contacts_Count_12_mon_Dependent_count_Education_Level_Months_Inactive_12_mon_1  \\\n",
       "0                                              0.000093                                                                                    \n",
       "1                                              0.000057                                                                                    \n",
       "2                                              0.000021                                                                                    \n",
       "3                                              0.000134                                                                                    \n",
       "4                                              0.000022                                                                                    \n",
       "...                                                 ...                                                                                    \n",
       "9542                                           0.000191                                                                                    \n",
       "9543                                           0.995270                                                                                    \n",
       "9544                                           0.997880                                                                                    \n",
       "9545                                           0.996710                                                                                    \n",
       "9546                                           0.996620                                                                                    \n",
       "\n",
       "      Naive_Bayes_Classifier_Attrition_Flag_Card_Category_Contacts_Count_12_mon_Dependent_count_Education_Level_Months_Inactive_12_mon_2  \\\n",
       "0                                              0.999910                                                                                    \n",
       "1                                              0.999940                                                                                    \n",
       "2                                              0.999980                                                                                    \n",
       "3                                              0.999870                                                                                    \n",
       "4                                              0.999980                                                                                    \n",
       "...                                                 ...                                                                                    \n",
       "9542                                           0.999810                                                                                    \n",
       "9543                                           0.004729                                                                                    \n",
       "9544                                           0.002118                                                                                    \n",
       "9545                                           0.003294                                                                                    \n",
       "9546                                           0.003377                                                                                    \n",
       "\n",
       "      Credit_q1  Credit_q3   Credit_Mean       iqr      upper      lower  \\\n",
       "0       5411.00   15503.50  11424.340426  10092.50  30642.250  -9727.750   \n",
       "1       2027.75    4383.50   3680.313514   2355.75   7917.125  -1505.875   \n",
       "2       5073.00   24862.75  15750.760000  19789.75  54547.375 -24611.625   \n",
       "3       2163.50    5198.50   4243.331313   3035.00   9751.000  -2389.000   \n",
       "4       4716.00   12763.00   9651.666667   8047.00  24833.500  -7354.500   \n",
       "...         ...        ...           ...       ...        ...        ...   \n",
       "9542    2595.75    7226.50   5765.587500   4630.75  14172.625  -4350.375   \n",
       "9543    1935.00    5801.00   4527.696552   3866.00  11600.000  -3864.000   \n",
       "9544    1972.25    4150.00   3641.295546   2177.75   7416.625  -1294.375   \n",
       "9545    2404.25    6380.00   5248.575526   3975.75  12343.625  -3559.375   \n",
       "9546    2085.25    4049.75   3780.929630   1964.50   6996.500   -861.500   \n",
       "\n",
       "      new_Credit_limit  \n",
       "0         12691.000000  \n",
       "1          3680.313514  \n",
       "2          3418.000000  \n",
       "3          3313.000000  \n",
       "4          4716.000000  \n",
       "...                ...  \n",
       "9542       4003.000000  \n",
       "9543       4277.000000  \n",
       "9544       5409.000000  \n",
       "9545       5281.000000  \n",
       "9546       3780.929630  \n",
       "\n",
       "[9547 rows x 30 columns]"
      ]
     },
     "execution_count": 3185,
     "metadata": {},
     "output_type": "execute_result"
    }
   ],
   "source": [
    "df_t"
   ]
  },
  {
   "cell_type": "code",
   "execution_count": 3186,
   "id": "7019de83-d5d5-4343-8420-c9860ccd6f88",
   "metadata": {},
   "outputs": [
    {
     "data": {
      "text/plain": [
       "<AxesSubplot:xlabel='Months_on_book', ylabel='Credit_Limit'>"
      ]
     },
     "execution_count": 3186,
     "metadata": {},
     "output_type": "execute_result"
    },
    {
     "data": {
      "image/png": "[encoded data removed]",
      "text/plain": [
       "<Figure size 432x288 with 1 Axes>"
      ]
     },
     "metadata": {
      "needs_background": "light"
     },
     "output_type": "display_data"
    }
   ],
   "source": [
    "sns.boxplot( data=dfbank1.loc[(dfbank1['Card_Category']=='Blue')  & (dfbank1['Income_Category']=='Less than $40K')  ,:]  , x=\"Months_on_book\" , y=\"Credit_Limit\" )"
   ]
  },
  {
   "cell_type": "code",
   "execution_count": 3187,
   "id": "7c91f35c-a8ac-41ea-b224-0443ddf7d0cb",
   "metadata": {},
   "outputs": [
    {
     "data": {
      "text/plain": [
       "<AxesSubplot:xlabel='Months_on_book', ylabel='new_Credit_limit'>"
      ]
     },
     "execution_count": 3187,
     "metadata": {},
     "output_type": "execute_result"
    },
    {
     "data": {
      "image/png": "[encoded data removed]",
      "text/plain": [
       "<Figure size 432x288 with 1 Axes>"
      ]
     },
     "metadata": {
      "needs_background": "light"
     },
     "output_type": "display_data"
    }
   ],
   "source": [
    "sns.boxplot( data=df_t.loc[(df_t['Card_Category']=='Blue')  & (df_t['Income_Category']=='Less than $40K')  ,:]  , x=\"Months_on_book\" , y=\"new_Credit_limit\" )"
   ]
  },
  {
   "cell_type": "code",
   "execution_count": 3188,
   "id": "358892b7-7776-4988-8039-eab5383b1c2a",
   "metadata": {},
   "outputs": [
    {
     "data": {
      "text/plain": [
       "<AxesSubplot:xlabel='Income_Category', ylabel='Credit_Limit'>"
      ]
     },
     "execution_count": 3188,
     "metadata": {},
     "output_type": "execute_result"
    },
    {
     "data": {
      "image/png": "[encoded data removed]",
      "text/plain": [
       "<Figure size 432x288 with 1 Axes>"
      ]
     },
     "metadata": {
      "needs_background": "light"
     },
     "output_type": "display_data"
    }
   ],
   "source": [
    "sns.boxplot( data=dfbank1.loc[(dfbank1['Card_Category']=='Blue')  & (dfbank1['Months_on_book']==20)  ,:]  , x=\"Income_Category\" , y=\"Credit_Limit\" )"
   ]
  },
  {
   "cell_type": "code",
   "execution_count": 3189,
   "id": "35b75db3-c15e-49d4-88f4-6c573a5f891c",
   "metadata": {},
   "outputs": [
    {
     "data": {
      "text/plain": [
       "<AxesSubplot:xlabel='Income_Category', ylabel='new_Credit_limit'>"
      ]
     },
     "execution_count": 3189,
     "metadata": {},
     "output_type": "execute_result"
    },
    {
     "data": {
      "image/png": "[encoded data removed]",
      "text/plain": [
       "<Figure size 432x288 with 1 Axes>"
      ]
     },
     "metadata": {
      "needs_background": "light"
     },
     "output_type": "display_data"
    }
   ],
   "source": [
    "sns.boxplot( data=df_t.loc[(df_t['Card_Category']=='Blue')  & (df_t['Months_on_book']==20)  ,:]  , x=\"Income_Category\" , y=\"new_Credit_limit\" )"
   ]
  },
  {
   "cell_type": "markdown",
   "id": "2e1515df-7fc2-4a93-b365-444952bd3da9",
   "metadata": {},
   "source": [
    "# Comenzamos a analizar la variable Avg_Open_To_Buy"
   ]
  },
  {
   "cell_type": "code",
   "execution_count": null,
   "id": "4d8befa7-7d13-4cc6-b4d8-ad539bb20042",
   "metadata": {},
   "outputs": [
    {
     "data": {
      "text/plain": [
       "{'whiskers': [<matplotlib.lines.Line2D at 0x22598641880>,\n",
       "  <matplotlib.lines.Line2D at 0x22598641b50>],\n",
       " 'caps': [<matplotlib.lines.Line2D at 0x22598641e20>,\n",
       "  <matplotlib.lines.Line2D at 0x2259861c130>],\n",
       " 'boxes': [<matplotlib.lines.Line2D at 0x225986415b0>],\n",
       " 'medians': [<matplotlib.lines.Line2D at 0x2259861c430>],\n",
       " 'fliers': [<matplotlib.lines.Line2D at 0x2259861c700>],\n",
       " 'means': []}"
      ]
     },
     "execution_count": 3190,
     "metadata": {},
     "output_type": "execute_result"
    }
   ],
   "source": [
    "plt.boxplot(dfbank1[\"Avg_Open_To_Buy\"])"
   ]
  },
  {
   "cell_type": "code",
   "execution_count": null,
   "id": "4e15b3ad-4d18-4f98-a707-d3f96c5751c6",
   "metadata": {},
   "outputs": [],
   "source": [
    "sns.boxplot(data= dfbank1 ,x=\"Months_Inactive_12_mon\",y=\"Avg_Open_To_Buy\")"
   ]
  },
  {
   "cell_type": "code",
   "execution_count": null,
   "id": "f5c11fa9-bff8-429f-bca5-d194c06bca9c",
   "metadata": {},
   "outputs": [],
   "source": [
    "# nivel de educacion, estado civil, numero de dependiente\n",
    "sns.boxplot(data= dfbank1.loc[(dfbank1[\"Income_Category\"]==\"Less than $40K\")&(dfbank1[\"Dependent_count\"]==3)&(dfbank1[\"Education_Level\"]==\"Graduate\")&(dfbank1[\"Marital_Status\"]==\"Married\"),:] ,x=\"Months_Inactive_12_mon\",y=\"Avg_Open_To_Buy\")"
   ]
  },
  {
   "cell_type": "code",
   "execution_count": null,
   "id": "3177434e-bcee-4dad-ae56-feb1bf0ae1b8",
   "metadata": {},
   "outputs": [],
   "source": [
    "dfq1=dfbank1.loc[:,[\"Income_Category\",\"Dependent_count\",\"Months_Inactive_12_mon\",\"Marital_Status\",\"Education_Level\",\"Avg_Open_To_Buy\"]].groupby([\"Income_Category\",\"Dependent_count\",\"Months_Inactive_12_mon\",\"Marital_Status\",\"Education_Level\"],as_index=False).quantile(0.25)\n",
    "dfq1.columns=[\"Income_Category\",\"Dependent_count\",\"Months_Inactive_12_mon\",\"Marital_Status\",\"Education_Level\",\"Avg_Open_To_Buy_q1\"]"
   ]
  },
  {
   "cell_type": "code",
   "execution_count": null,
   "id": "94c647b6-f1c5-48e3-a678-34ca6fa3d956",
   "metadata": {},
   "outputs": [],
   "source": [
    "dfq3=dfbank1.loc[:,[\"Income_Category\",\"Dependent_count\",\"Months_Inactive_12_mon\",\"Marital_Status\",\"Education_Level\",\"Avg_Open_To_Buy\"]].groupby([\"Income_Category\",\"Dependent_count\",\"Months_Inactive_12_mon\",\"Marital_Status\",\"Education_Level\"],as_index=False).quantile(0.75)\n",
    "dfq3.columns=[\"Income_Category\",\"Dependent_count\",\"Months_Inactive_12_mon\",\"Marital_Status\",\"Education_Level\",\"Avg_Open_To_Buy_q3\"]"
   ]
  },
  {
   "cell_type": "code",
   "execution_count": null,
   "id": "55479777-2100-4dcb-b074-1a4ccaf56c49",
   "metadata": {},
   "outputs": [],
   "source": [
    "dfqmean=dfbank1.loc[:,[\"Income_Category\",\"Dependent_count\",\"Months_Inactive_12_mon\",\"Marital_Status\",\"Education_Level\",\"Avg_Open_To_Buy\"]].groupby([\"Income_Category\",\"Dependent_count\",\"Months_Inactive_12_mon\",\"Marital_Status\",\"Education_Level\"],as_index=False).mean()\n",
    "dfqmean.columns=[\"Income_Category\",\"Dependent_count\",\"Months_Inactive_12_mon\",\"Marital_Status\",\"Education_Level\",\"Avg_Open_To_Buy_mean\"]"
   ]
  },
  {
   "cell_type": "code",
   "execution_count": null,
   "id": "fce93915-2c58-4c96-a7b9-4d610c9f641f",
   "metadata": {},
   "outputs": [],
   "source": [
    "df_iqr=dfq1.merge(dfq3,on=[\"Income_Category\",\"Dependent_count\",\"Months_Inactive_12_mon\",\"Marital_Status\",\"Education_Level\"],how=\"inner\").merge(dfqmean,on=[\"Income_Category\",\"Dependent_count\",\"Months_Inactive_12_mon\",\"Marital_Status\",\"Education_Level\"],how=\"inner\")"
   ]
  },
  {
   "cell_type": "code",
   "execution_count": null,
   "id": "3f653e60-5648-4e65-8123-fff2425032ff",
   "metadata": {},
   "outputs": [],
   "source": [
    "df_iqr[\"iqr\"] = df_iqr.apply( lambda r: r[\"Avg_Open_To_Buy_q3\"] - r[\"Avg_Open_To_Buy_q1\"] , axis = 1)"
   ]
  },
  {
   "cell_type": "code",
   "execution_count": null,
   "id": "34ee8618-3631-4b38-aede-bc7a0b406615",
   "metadata": {},
   "outputs": [],
   "source": [
    "df_iqr[\"upper_bound_avg\"] = df_iqr.apply( lambda r:  r[\"Avg_Open_To_Buy_q3\"] + (1.5*r[\"iqr\"] ) , axis = 1)\n",
    "df_iqr[\"lower_bound_avg\"] = df_iqr.apply( lambda r:  r[\"Avg_Open_To_Buy_q1\"] - (1.5*r[\"iqr\"] ) , axis = 1)"
   ]
  },
  {
   "cell_type": "code",
   "execution_count": 3097,
   "id": "9ba608c5-f323-4931-8613-531ed636e9df",
   "metadata": {},
   "outputs": [],
   "source": [
    "df_t = dfbank1.merge( df_iqr , on=[\"Income_Category\",\"Dependent_count\",\"Months_Inactive_12_mon\",\"Marital_Status\",\"Education_Level\"] , how=\"left\" ).copy()"
   ]
  },
  {
   "cell_type": "code",
   "execution_count": 3098,
   "id": "98479e0a-b849-4bf8-b273-7cba63ea2d56",
   "metadata": {},
   "outputs": [],
   "source": [
    "def get_real_avg(r):\n",
    "    if (r[\"Avg_Open_To_Buy\"]<r[\"lower_bound_avg\"]) | (r[\"Avg_Open_To_Buy\"]>r[\"upper_bound_avg\"]):\n",
    "        return r[\"Avg_Open_To_Buy_mean\"]\n",
    "    else:\n",
    "        return r[\"Avg_Open_To_Buy\"]"
   ]
  },
  {
   "cell_type": "code",
   "execution_count": 3099,
   "id": "6fbc2a14-0cc6-4573-a055-6f33b912be06",
   "metadata": {},
   "outputs": [],
   "source": [
    "df_t[\"n_avg_open_to_buy\"]=df_t.apply( lambda r: get_real_avg(r) , axis = 1 )"
   ]
  },
  {
   "cell_type": "code",
   "execution_count": 3100,
   "id": "d1cbed28-4541-4ec2-b974-ed4a62648b45",
   "metadata": {},
   "outputs": [
    {
     "data": {
      "text/plain": [
       "<AxesSubplot:xlabel='Months_Inactive_12_mon', ylabel='Avg_Open_To_Buy'>"
      ]
     },
     "execution_count": 3100,
     "metadata": {},
     "output_type": "execute_result"
    },
    {
     "data": {
      "image/png": "[encoded data removed]",
      "text/plain": [
       "<Figure size 432x288 with 1 Axes>"
      ]
     },
     "metadata": {
      "needs_background": "light"
     },
     "output_type": "display_data"
    }
   ],
   "source": [
    "sns.boxplot(data= df_t.loc[(df_t[\"Income_Category\"]==\"Less than $40K\")&(df_t[\"Dependent_count\"]==3)&(df_t[\"Marital_Status\"]==\"Married\")&(df_t[\"Education_Level\"]==\"Graduate\"),:] ,x=\"Months_Inactive_12_mon\",y=\"Avg_Open_To_Buy\")"
   ]
  },
  {
   "cell_type": "code",
   "execution_count": 3101,
   "id": "0a56b151-32d4-4269-8f4a-e53810dd812e",
   "metadata": {},
   "outputs": [
    {
     "data": {
      "text/plain": [
       "<AxesSubplot:xlabel='Months_Inactive_12_mon', ylabel='n_avg_open_to_buy'>"
      ]
     },
     "execution_count": 3101,
     "metadata": {},
     "output_type": "execute_result"
    },
    {
     "data": {
      "image/png": "[encoded data removed]",
      "text/plain": [
       "<Figure size 432x288 with 1 Axes>"
      ]
     },
     "metadata": {
      "needs_background": "light"
     },
     "output_type": "display_data"
    }
   ],
   "source": [
    "sns.boxplot(data= df_t.loc[(df_t[\"Income_Category\"]==\"Less than $40K\")&(df_t[\"Dependent_count\"]==3)&(df_t[\"Marital_Status\"]==\"Married\")&(df_t[\"Education_Level\"]==\"Graduate\"),:] ,x=\"Months_Inactive_12_mon\",y=\"n_avg_open_to_buy\")"
   ]
  },
  {
   "cell_type": "markdown",
   "id": "dded182c-b648-42d0-b8d2-f15fba062d76",
   "metadata": {},
   "source": [
    "# Comenzamos a analizar la variable Avg_Utilization_Ratio"
   ]
  },
  {
   "cell_type": "code",
   "execution_count": 3102,
   "id": "e097dd39-f80d-45fe-b132-4dbade40f4e8",
   "metadata": {},
   "outputs": [
    {
     "data": {
      "text/plain": [
       "{'whiskers': [<matplotlib.lines.Line2D at 0x22588172be0>,\n",
       "  <matplotlib.lines.Line2D at 0x2258800f2e0>],\n",
       " 'caps': [<matplotlib.lines.Line2D at 0x22587a1de80>,\n",
       "  <matplotlib.lines.Line2D at 0x225863eaaf0>],\n",
       " 'boxes': [<matplotlib.lines.Line2D at 0x22588172820>],\n",
       " 'medians': [<matplotlib.lines.Line2D at 0x225863d8f40>],\n",
       " 'fliers': [<matplotlib.lines.Line2D at 0x225863d8ee0>],\n",
       " 'means': []}"
      ]
     },
     "execution_count": 3102,
     "metadata": {},
     "output_type": "execute_result"
    },
    {
     "data": {
      "image/png": "[encoded data removed]",
      "text/plain": [
       "<Figure size 432x288 with 1 Axes>"
      ]
     },
     "metadata": {
      "needs_background": "light"
     },
     "output_type": "display_data"
    }
   ],
   "source": [
    "plt.boxplot( dfbank1[\"Avg_Utilization_Ratio\"] )"
   ]
  },
  {
   "cell_type": "markdown",
   "id": "8d75ec8a-2604-41ec-9505-7bac2440aa73",
   "metadata": {},
   "source": [
    "### A simple vista esta variable no tiene valores atipicos pero cuando estratificamos podemos notar que aparecen valores atipicos por lo tanto tocara limpiar esta variable tambien"
   ]
  },
  {
   "cell_type": "markdown",
   "id": "e0dbaef2-9b5c-4460-8415-f3ba2a820485",
   "metadata": {},
   "source": [
    "### Para esta Variable decidimos estratificarla por medio del income,month_on_book y card_category, esta estratificacion se utilizara para hacer comparaciones mas realistas ya que estamos comparando el nivel economico de una persona, el tipo de tarjeta que utiliza y la antiguedad de ser cliente, un cliente que tenga mayores ingresos,utilice una tarjeta platinum y ademas lleve varios meses de ser cliente del banco va tener un avg_utilization_ratio mayor a la de un cliente con tarjeta azul,que sus ingresos sean bajos y que ademas lleve pocos meses de ser nuestro cliente. "
   ]
  },
  {
   "cell_type": "code",
   "execution_count": 3123,
   "id": "4bd32a1b-6135-457f-a2a1-df5be4bb932f",
   "metadata": {},
   "outputs": [
    {
     "data": {
      "text/plain": [
       "<AxesSubplot:xlabel='Months_on_book', ylabel='Avg_Utilization_Ratio'>"
      ]
     },
     "execution_count": 3123,
     "metadata": {},
     "output_type": "execute_result"
    },
    {
     "data": {
      "image/png": "[encoded data removed]",
      "text/plain": [
       "<Figure size 432x288 with 1 Axes>"
      ]
     },
     "metadata": {
      "needs_background": "light"
     },
     "output_type": "display_data"
    }
   ],
   "source": [
    "sns.boxplot( data=dfbank1.loc[(dfbank1['Card_Category']=='Blue')  & (dfbank1['Income_Category']=='$120K +')  ,:]  , x=\"Months_on_book\" , y=\"Avg_Utilization_Ratio\" )"
   ]
  },
  {
   "cell_type": "code",
   "execution_count": 3106,
   "id": "517dd395-c977-4225-bd36-3f21fa18d879",
   "metadata": {},
   "outputs": [],
   "source": [
    "dfq1 = dfbank1.loc[ : , ['Income_Category','Months_on_book',\"Avg_Utilization_Ratio\"] ].groupby( ['Income_Category','Months_on_book'] , as_index = False ).quantile(0.25)\n",
    "dfq1.columns = ['Income_Category','Months_on_book',\"Avg_Utilization_Ratio_q1\"]"
   ]
  },
  {
   "cell_type": "code",
   "execution_count": 3107,
   "id": "383a5d18-0fad-4094-92e5-8112f50df9cb",
   "metadata": {},
   "outputs": [],
   "source": [
    "dfq3 = dfbank1.loc[ : , ['Income_Category','Months_on_book',\"Avg_Utilization_Ratio\"] ].groupby( ['Income_Category','Months_on_book'], as_index = False ).quantile(0.75)\n",
    "dfq3.columns = ['Income_Category','Months_on_book',\"Avg_Utilization_Ratio_q3\"]"
   ]
  },
  {
   "cell_type": "code",
   "execution_count": 3108,
   "id": "c247379f-a717-42f3-8c69-f4bf987c0693",
   "metadata": {},
   "outputs": [],
   "source": [
    "dfq2 = dfbank1.loc[ : , ['Income_Category','Months_on_book',\"Avg_Utilization_Ratio\"] ].groupby(['Income_Category','Months_on_book']  , as_index = False ).mean()\n",
    "dfq2.columns = ['Income_Category','Months_on_book',\"Avg_Utilization_Ratio_Mean\"]"
   ]
  },
  {
   "cell_type": "code",
   "execution_count": 3110,
   "id": "06c00002-6f4c-4efb-91bc-3a9886d6d415",
   "metadata": {},
   "outputs": [],
   "source": [
    "df_iqr = dfq1.merge( dfq3 , on=['Income_Category','Months_on_book'], how=\"inner\" ).merge( dfq2 , on=['Income_Category','Months_on_book'], how=\"inner\" )"
   ]
  },
  {
   "cell_type": "code",
   "execution_count": 3111,
   "id": "0a69b30c-ed7f-4658-ad9c-3d4f97fe022b",
   "metadata": {},
   "outputs": [],
   "source": [
    "df_iqr[\"iqr\"] = df_iqr.apply( lambda r: r[\"Avg_Utilization_Ratio_q3\"] - r[\"Avg_Utilization_Ratio_q1\"] , axis = 1)"
   ]
  },
  {
   "cell_type": "code",
   "execution_count": 3112,
   "id": "4cc10bbd-ec31-4b8c-87d0-cfa5f76bb016",
   "metadata": {},
   "outputs": [],
   "source": [
    "df_iqr[\"upper\"] = df_iqr.apply( lambda r: ( r[\"Avg_Utilization_Ratio_q3\"] + 1.5*r[\"iqr\"] ) , axis = 1)\n",
    "df_iqr[\"lower\"] = df_iqr.apply( lambda r: ( r[\"Avg_Utilization_Ratio_q1\"] - 1.5*r[\"iqr\"] ) , axis = 1)"
   ]
  },
  {
   "cell_type": "code",
   "execution_count": 3113,
   "id": "2caf6165-967b-478a-88b4-21da855f9b7c",
   "metadata": {},
   "outputs": [],
   "source": [
    "df_t = dfbank1.merge( df_iqr , how=\"left\" , on=['Income_Category','Months_on_book'])"
   ]
  },
  {
   "cell_type": "code",
   "execution_count": 3114,
   "id": "20b8f8e7-c5c0-49ab-8178-ffe4896ad11f",
   "metadata": {},
   "outputs": [],
   "source": [
    "def getRealPrice(r):\n",
    "    if ( r[\"Avg_Utilization_Ratio\"] <= r[\"lower\"] ) | ( r[\"Avg_Utilization_Ratio\"] >= r[\"upper\"] ):\n",
    "        return r[\"Avg_Utilization_Ratio_Mean\"]\n",
    "    else:\n",
    "        return r[\"Avg_Utilization_Ratio\"]"
   ]
  },
  {
   "cell_type": "code",
   "execution_count": 3116,
   "id": "b09d26da-16de-49d1-9a1b-9c0b079105f8",
   "metadata": {},
   "outputs": [],
   "source": [
    "df_t[\"new_avg_ratio\"] = df_t.apply( lambda r: getRealPrice(r) , axis = 1 )"
   ]
  },
  {
   "cell_type": "code",
   "execution_count": 3121,
   "id": "f352ee2b-93a6-46be-82bf-e56e099a391f",
   "metadata": {},
   "outputs": [
    {
     "data": {
      "text/plain": [
       "<AxesSubplot:xlabel='Months_on_book', ylabel='new_avg_ratio'>"
      ]
     },
     "execution_count": 3121,
     "metadata": {},
     "output_type": "execute_result"
    },
    {
     "data": {
      "image/png": "[encoded data removed]",
      "text/plain": [
       "<Figure size 432x288 with 1 Axes>"
      ]
     },
     "metadata": {
      "needs_background": "light"
     },
     "output_type": "display_data"
    }
   ],
   "source": [
    "sns.boxplot( data=df_t.loc[(df_t['Card_Category']=='Blue')  & (df_t['Income_Category']=='$120K +')  ,:]  , x=\"Months_on_book\" , y=\"new_avg_ratio\" )"
   ]
  },
  {
   "cell_type": "markdown",
   "id": "b468fd8f-cd93-4152-8e47-015d253b373c",
   "metadata": {},
   "source": [
    "# Analisis de Variables Categoricas"
   ]
  },
  {
   "cell_type": "code",
   "execution_count": 2793,
   "id": "5c082dcd-da20-4b0d-84fb-80c382ee1866",
   "metadata": {},
   "outputs": [
    {
     "data": {
      "text/plain": [
       "Index(['CLIENTNUM', 'Attrition_Flag', 'Customer_Age', 'Gender',\n",
       "       'Dependent_count', 'Education_Level', 'Marital_Status',\n",
       "       'Income_Category', 'Card_Category', 'Months_on_book',\n",
       "       'Total_Relationship_Count', 'Months_Inactive_12_mon',\n",
       "       'Contacts_Count_12_mon', 'Credit_Limit', 'Total_Revolving_Bal',\n",
       "       'Avg_Open_To_Buy', 'Total_Amt_Chng_Q4_Q1', 'Total_Trans_Amt',\n",
       "       'Total_Trans_Ct', 'Total_Ct_Chng_Q4_Q1', 'Avg_Utilization_Ratio',\n",
       "       'Naive_Bayes_Classifier_Attrition_Flag_Card_Category_Contacts_Count_12_mon_Dependent_count_Education_Level_Months_Inactive_12_mon_1',\n",
       "       'Naive_Bayes_Classifier_Attrition_Flag_Card_Category_Contacts_Count_12_mon_Dependent_count_Education_Level_Months_Inactive_12_mon_2'],\n",
       "      dtype='object')"
      ]
     },
     "execution_count": 2793,
     "metadata": {},
     "output_type": "execute_result"
    }
   ],
   "source": [
    "dfbank1.columns"
   ]
  },
  {
   "cell_type": "code",
   "execution_count": 2794,
   "id": "b5f37ae4-6bdf-40fa-ab30-c81cc3f7ba4c",
   "metadata": {},
   "outputs": [],
   "source": [
    "categoricals =['CLIENTNUM', 'Attrition_Flag', 'Customer_Age', 'Gender',\n",
    "                'Education_Level', 'Marital_Status','Income_Category', 'Card_Category',]"
   ]
  },
  {
   "cell_type": "code",
   "execution_count": 2795,
   "id": "e7787588-8eb7-43e6-bb9f-25c3b1ae41fa",
   "metadata": {},
   "outputs": [],
   "source": [
    "dfbank2=dfbank1.loc[:, categoricals]"
   ]
  },
  {
   "cell_type": "markdown",
   "id": "940b41af-aafc-4da1-be49-a3dd7b1c4dce",
   "metadata": {},
   "source": [
    "### Vamos a eliminar las columnas donde los niveles distintos de las variables categoricas representan mas del 0.95"
   ]
  },
  {
   "cell_type": "code",
   "execution_count": 2796,
   "id": "f104b8bf-2d87-48b9-97bd-b7f0b89a95db",
   "metadata": {},
   "outputs": [],
   "source": [
    "target = .95\n",
    "\n",
    "columnas_Validas = []\n",
    "columnas_con_muchos_niveles = []\n",
    "columnas_con_1_nivel = []\n",
    "\n",
    "for columns in categoricals:\n",
    "    x = dfbank2.loc[ : , [columns] ].drop_duplicates()\n",
    "    uniquevalues = x.shape[0]\n",
    "    \n",
    "    if uniquevalues == 1:\n",
    "        columnas_con_1_nivel.append(columns)\n",
    "    elif (uniquevalues / dfbank2.shape[0]) > target:\n",
    "        columnas_con_muchos_niveles.append(columns)\n",
    "    else:\n",
    "        columnas_Validas.append(columns)\n",
    "    "
   ]
  },
  {
   "cell_type": "code",
   "execution_count": 2797,
   "id": "9c439eda-a262-45ae-b0f3-bd20c413ed7d",
   "metadata": {},
   "outputs": [
    {
     "data": {
      "text/plain": [
       "['Attrition_Flag',\n",
       " 'Customer_Age',\n",
       " 'Gender',\n",
       " 'Education_Level',\n",
       " 'Marital_Status',\n",
       " 'Income_Category',\n",
       " 'Card_Category']"
      ]
     },
     "execution_count": 2797,
     "metadata": {},
     "output_type": "execute_result"
    }
   ],
   "source": [
    "columnas_Validas"
   ]
  },
  {
   "cell_type": "code",
   "execution_count": 2798,
   "id": "d385d3d0-499a-4dba-a6fd-c4c5069a38fe",
   "metadata": {},
   "outputs": [
    {
     "data": {
      "text/plain": [
       "['CLIENTNUM']"
      ]
     },
     "execution_count": 2798,
     "metadata": {},
     "output_type": "execute_result"
    }
   ],
   "source": [
    "columnas_con_muchos_niveles"
   ]
  },
  {
   "cell_type": "code",
   "execution_count": 2799,
   "id": "49d810a5-11ba-4c02-bbd8-11351739655a",
   "metadata": {},
   "outputs": [
    {
     "data": {
      "text/plain": [
       "[]"
      ]
     },
     "execution_count": 2799,
     "metadata": {},
     "output_type": "execute_result"
    }
   ],
   "source": [
    "columnas_con_1_nivel"
   ]
  },
  {
   "cell_type": "markdown",
   "id": "1dbff024-7736-4be1-9ae0-dc2aeb03b0fa",
   "metadata": {},
   "source": [
    "#### Para las columnas categóricas vamos encontrar aquellas columnas que tienen mas de un nivel,y que por lo menos uno de esos niveles represente mas o igual del 90%. si se cumple eliminaremos las columnas"
   ]
  },
  {
   "cell_type": "code",
   "execution_count": 2802,
   "id": "9685c3ab-2ac6-4b6d-9dd9-50b7331e75aa",
   "metadata": {},
   "outputs": [],
   "source": [
    "target=0.90\n",
    "y=pd.DataFrame()\n",
    "Columns_out= []\n",
    "for c_ in columnas_Validas:\n",
    "    x = dfbank2.loc[ : , [c_] ].drop_duplicates()\n",
    "    uniquevalues = x.shape[0]\n",
    "    y = dfbank2[c_].value_counts()/dfbank2.shape[0]\n",
    "    Porcentaje=y.values[0]\n",
    "    if (uniquevalues > 1 and Porcentaje>=target) :\n",
    "        Columns_out.append(c_)\n",
    "        columnas_Validas.remove(c_)\n",
    "   "
   ]
  },
  {
   "cell_type": "code",
   "execution_count": 2803,
   "id": "b3d32884-7dd1-4bd5-a2d4-cac2dfb9c9d7",
   "metadata": {},
   "outputs": [
    {
     "data": {
      "text/plain": [
       "['Card_Category']"
      ]
     },
     "execution_count": 2803,
     "metadata": {},
     "output_type": "execute_result"
    }
   ],
   "source": [
    "Columns_out"
   ]
  },
  {
   "cell_type": "code",
   "execution_count": 2804,
   "id": "696caee6-7bcb-43b9-8ab0-9ec0431e072c",
   "metadata": {},
   "outputs": [
    {
     "data": {
      "text/plain": [
       "['Attrition_Flag',\n",
       " 'Customer_Age',\n",
       " 'Gender',\n",
       " 'Education_Level',\n",
       " 'Marital_Status',\n",
       " 'Income_Category']"
      ]
     },
     "execution_count": 2804,
     "metadata": {},
     "output_type": "execute_result"
    }
   ],
   "source": [
    "valid_columns"
   ]
  },
  {
   "cell_type": "markdown",
   "id": "5be6d90a-1f49-4b7b-8b8e-93c3900a7a2a",
   "metadata": {},
   "source": [
    "#### Para las columnas categóricas encontraremos aquellas columnas que tengan entre 2-6 niveles. Al nivel con la frecuencia mas baja lo vamos a remplazar por la palabra Others y luego lo uniremos al dataset original"
   ]
  },
  {
   "cell_type": "code",
   "execution_count": 2805,
   "id": "735b7778-907c-43e6-81ba-bc2dc7ba4f2a",
   "metadata": {},
   "outputs": [],
   "source": [
    "valid_columns_two_fourlevels = []\n",
    "for c_ in categoricals:\n",
    "    x = dfbank2.loc[ : , [c_] ].drop_duplicates()\n",
    "    uniquevalues = x.shape[0]\n",
    "    \n",
    "    if uniquevalues >=3 and uniquevalues <=6:\n",
    "        valid_columns_two_fourlevels.append(c_)"
   ]
  },
  {
   "cell_type": "code",
   "execution_count": 2806,
   "id": "f2a15dce-96c0-48c4-b294-8c36b907d0bd",
   "metadata": {},
   "outputs": [
    {
     "data": {
      "text/plain": [
       "['Education_Level', 'Marital_Status', 'Income_Category']"
      ]
     },
     "execution_count": 2806,
     "metadata": {},
     "output_type": "execute_result"
    }
   ],
   "source": [
    "valid_columns_two_fourlevels"
   ]
  },
  {
   "cell_type": "markdown",
   "id": "ab890bcd-3b8d-430e-8ccd-b7019c73ef7e",
   "metadata": {},
   "source": [
    "### traducciones de variable Education Level\n",
    "### para esta variable tomamos los 2 niveles con mayor representacion de datos para que others no obtuviera la mayoria de datos hay que recordar que al incio se hizo un cambio de valores nulos a others por lo tanto este nivel representa un porcentaje de others y se sumara a los demas niveles que obtenga ese mismo nombre"
   ]
  },
  {
   "cell_type": "code",
   "execution_count": 2955,
   "id": "009cab23-bcdd-429d-b208-cd950e8210b7",
   "metadata": {},
   "outputs": [],
   "source": [
    "level_frequency=pd.DataFrame()"
   ]
  },
  {
   "cell_type": "code",
   "execution_count": 2956,
   "id": "15bfe5eb-be16-46ce-b041-fd92f61bd82b",
   "metadata": {},
   "outputs": [],
   "source": [
    "level_frequency['Numero_Datos']= dfbank2['Education_Level'].value_counts()"
   ]
  },
  {
   "cell_type": "code",
   "execution_count": 2957,
   "id": "9ce50c18-606b-4a97-ab7b-bc46fd443ba8",
   "metadata": {},
   "outputs": [],
   "source": [
    "level_frequency=level_frequency.reset_index()"
   ]
  },
  {
   "cell_type": "code",
   "execution_count": 2958,
   "id": "f21379e4-d949-49fc-84c0-7057275862a9",
   "metadata": {},
   "outputs": [],
   "source": [
    "level_frequency.columns=('Education_Level','Numero_Datos')"
   ]
  },
  {
   "cell_type": "code",
   "execution_count": 2959,
   "id": "20195039-85ca-4d3e-a6e1-cb0b1da34ec1",
   "metadata": {},
   "outputs": [],
   "source": [
    "level_frequency['Porcentaje']=level_frequency['Numero_Datos']/dfbank2.shape[0]"
   ]
  },
  {
   "cell_type": "code",
   "execution_count": 2960,
   "id": "13dbfd2f-38c3-49cc-b866-6173762c0110",
   "metadata": {},
   "outputs": [],
   "source": [
    "level_frequency=level_frequency.sort_values(['Porcentaje'], ascending=False)"
   ]
  },
  {
   "cell_type": "code",
   "execution_count": 2961,
   "id": "b74b7b9d-9d97-4464-8d8e-441814ec56a5",
   "metadata": {},
   "outputs": [],
   "source": [
    "level_frequency['nEducation_Level']='Others'"
   ]
  },
  {
   "cell_type": "code",
   "execution_count": 2962,
   "id": "17d93c88-2957-4de0-8656-63ed61578fba",
   "metadata": {},
   "outputs": [
    {
     "data": {
      "text/html": [
       "<div>\n",
       "<style scoped>\n",
       "    .dataframe tbody tr th:only-of-type {\n",
       "        vertical-align: middle;\n",
       "    }\n",
       "\n",
       "    .dataframe tbody tr th {\n",
       "        vertical-align: top;\n",
       "    }\n",
       "\n",
       "    .dataframe thead th {\n",
       "        text-align: right;\n",
       "    }\n",
       "</style>\n",
       "<table border=\"1\" class=\"dataframe\">\n",
       "  <thead>\n",
       "    <tr style=\"text-align: right;\">\n",
       "      <th></th>\n",
       "      <th>Education_Level</th>\n",
       "      <th>Numero_Datos</th>\n",
       "      <th>Porcentaje</th>\n",
       "      <th>nEducation_Level</th>\n",
       "    </tr>\n",
       "  </thead>\n",
       "  <tbody>\n",
       "    <tr>\n",
       "      <th>0</th>\n",
       "      <td>Graduate</td>\n",
       "      <td>3084</td>\n",
       "      <td>0.323033</td>\n",
       "      <td>Others</td>\n",
       "    </tr>\n",
       "    <tr>\n",
       "      <th>1</th>\n",
       "      <td>High School</td>\n",
       "      <td>1986</td>\n",
       "      <td>0.208023</td>\n",
       "      <td>Others</td>\n",
       "    </tr>\n",
       "    <tr>\n",
       "      <th>2</th>\n",
       "      <td>Others</td>\n",
       "      <td>1498</td>\n",
       "      <td>0.156908</td>\n",
       "      <td>Others</td>\n",
       "    </tr>\n",
       "    <tr>\n",
       "      <th>3</th>\n",
       "      <td>Uneducated</td>\n",
       "      <td>1473</td>\n",
       "      <td>0.154289</td>\n",
       "      <td>Others</td>\n",
       "    </tr>\n",
       "    <tr>\n",
       "      <th>4</th>\n",
       "      <td>College</td>\n",
       "      <td>998</td>\n",
       "      <td>0.104535</td>\n",
       "      <td>Others</td>\n",
       "    </tr>\n",
       "    <tr>\n",
       "      <th>5</th>\n",
       "      <td>Post-Graduate</td>\n",
       "      <td>508</td>\n",
       "      <td>0.053210</td>\n",
       "      <td>Others</td>\n",
       "    </tr>\n",
       "  </tbody>\n",
       "</table>\n",
       "</div>"
      ],
      "text/plain": [
       "  Education_Level  Numero_Datos  Porcentaje nEducation_Level\n",
       "0        Graduate          3084    0.323033           Others\n",
       "1     High School          1986    0.208023           Others\n",
       "2          Others          1498    0.156908           Others\n",
       "3      Uneducated          1473    0.154289           Others\n",
       "4         College           998    0.104535           Others\n",
       "5   Post-Graduate           508    0.053210           Others"
      ]
     },
     "execution_count": 2962,
     "metadata": {},
     "output_type": "execute_result"
    }
   ],
   "source": [
    "level_frequency"
   ]
  },
  {
   "cell_type": "code",
   "execution_count": 2963,
   "id": "c49d681e-0ed1-4553-8190-1e33f7e44af8",
   "metadata": {},
   "outputs": [],
   "source": [
    "Valor_minimo=level_frequency['Porcentaje'][1]"
   ]
  },
  {
   "cell_type": "code",
   "execution_count": 2964,
   "id": "52c5f6a7-31dd-4298-8140-27cc45ef9cfb",
   "metadata": {},
   "outputs": [],
   "source": [
    "level_frequency['nEducation_Level']=level_frequency.apply( lambda r: r[\"Education_Level\"] if r[\"Porcentaje\"] >= Valor_minimo else r[\"nEducation_Level\"] , axis = 1 )"
   ]
  },
  {
   "cell_type": "code",
   "execution_count": 2965,
   "id": "c084e730-5ea5-4afe-83f0-64e4f61d79d3",
   "metadata": {},
   "outputs": [],
   "source": [
    "level_frequency_Education=level_frequency.loc[:, ['Education_Level','nEducation_Level']]"
   ]
  },
  {
   "cell_type": "code",
   "execution_count": 2966,
   "id": "6e7bb687-8ea6-464d-b0a7-93680cc76a7e",
   "metadata": {},
   "outputs": [],
   "source": [
    "level_frequency_Education.to_csv('nEducation_level.csv')"
   ]
  },
  {
   "cell_type": "markdown",
   "id": "bf8938a4-c543-460c-b022-5727b88e4cd8",
   "metadata": {},
   "source": [
    "### traducciones de variable Marital Status\n",
    "### para esta variable tomamos los 2 niveles con mayor representacion de datos para que others no obtuviera la mayoria de datos"
   ]
  },
  {
   "cell_type": "code",
   "execution_count": 2967,
   "id": "c238ec2c-3c2a-4348-a044-3c79f2e8ef2d",
   "metadata": {},
   "outputs": [],
   "source": [
    "level_frequency=pd.DataFrame()"
   ]
  },
  {
   "cell_type": "code",
   "execution_count": 2968,
   "id": "1304bb9f-974d-4824-9929-746a3c62b976",
   "metadata": {},
   "outputs": [],
   "source": [
    "level_frequency['Numero_Datos']= dfbank2['Marital_Status'].value_counts()"
   ]
  },
  {
   "cell_type": "code",
   "execution_count": 2969,
   "id": "af8478b5-a996-4884-aba5-f696df83c622",
   "metadata": {},
   "outputs": [],
   "source": [
    "level_frequency=level_frequency.reset_index()"
   ]
  },
  {
   "cell_type": "code",
   "execution_count": 2970,
   "id": "99dcd1df-c78b-4aa3-99c4-274ed16a2043",
   "metadata": {},
   "outputs": [],
   "source": [
    "level_frequency.columns=('Marital_Status','Numero_Datos')"
   ]
  },
  {
   "cell_type": "code",
   "execution_count": 2971,
   "id": "647d1af8-091b-4bd8-a7e4-31bda5a87905",
   "metadata": {},
   "outputs": [],
   "source": [
    "level_frequency['Porcentaje']=level_frequency['Numero_Datos']/dfbank2.shape[0]"
   ]
  },
  {
   "cell_type": "code",
   "execution_count": 2972,
   "id": "a375c1ff-1ef4-49bd-8375-6dfbc4e81496",
   "metadata": {},
   "outputs": [],
   "source": [
    "level_frequency=level_frequency.sort_values(['Porcentaje'], ascending=False)"
   ]
  },
  {
   "cell_type": "code",
   "execution_count": 2973,
   "id": "462fb336-6bff-458b-9be6-ef96f73f6458",
   "metadata": {},
   "outputs": [],
   "source": [
    "level_frequency['nMarital_Status']='Others'"
   ]
  },
  {
   "cell_type": "code",
   "execution_count": 2974,
   "id": "1552ccd7-7613-4d6c-b7bf-87f996585fea",
   "metadata": {},
   "outputs": [
    {
     "data": {
      "text/html": [
       "<div>\n",
       "<style scoped>\n",
       "    .dataframe tbody tr th:only-of-type {\n",
       "        vertical-align: middle;\n",
       "    }\n",
       "\n",
       "    .dataframe tbody tr th {\n",
       "        vertical-align: top;\n",
       "    }\n",
       "\n",
       "    .dataframe thead th {\n",
       "        text-align: right;\n",
       "    }\n",
       "</style>\n",
       "<table border=\"1\" class=\"dataframe\">\n",
       "  <thead>\n",
       "    <tr style=\"text-align: right;\">\n",
       "      <th></th>\n",
       "      <th>Marital_Status</th>\n",
       "      <th>Numero_Datos</th>\n",
       "      <th>Porcentaje</th>\n",
       "      <th>nMarital_Status</th>\n",
       "    </tr>\n",
       "  </thead>\n",
       "  <tbody>\n",
       "    <tr>\n",
       "      <th>0</th>\n",
       "      <td>Married</td>\n",
       "      <td>4436</td>\n",
       "      <td>0.464649</td>\n",
       "      <td>Others</td>\n",
       "    </tr>\n",
       "    <tr>\n",
       "      <th>1</th>\n",
       "      <td>Single</td>\n",
       "      <td>3696</td>\n",
       "      <td>0.387137</td>\n",
       "      <td>Others</td>\n",
       "    </tr>\n",
       "    <tr>\n",
       "      <th>2</th>\n",
       "      <td>Others</td>\n",
       "      <td>709</td>\n",
       "      <td>0.074264</td>\n",
       "      <td>Others</td>\n",
       "    </tr>\n",
       "    <tr>\n",
       "      <th>3</th>\n",
       "      <td>Divorced</td>\n",
       "      <td>706</td>\n",
       "      <td>0.073950</td>\n",
       "      <td>Others</td>\n",
       "    </tr>\n",
       "  </tbody>\n",
       "</table>\n",
       "</div>"
      ],
      "text/plain": [
       "  Marital_Status  Numero_Datos  Porcentaje nMarital_Status\n",
       "0        Married          4436    0.464649          Others\n",
       "1         Single          3696    0.387137          Others\n",
       "2         Others           709    0.074264          Others\n",
       "3       Divorced           706    0.073950          Others"
      ]
     },
     "execution_count": 2974,
     "metadata": {},
     "output_type": "execute_result"
    }
   ],
   "source": [
    "level_frequency"
   ]
  },
  {
   "cell_type": "code",
   "execution_count": 2975,
   "id": "c576deb8-50f2-4eac-83d8-092f7e4a968b",
   "metadata": {},
   "outputs": [],
   "source": [
    "Valor_minimo=level_frequency['Porcentaje'][1]"
   ]
  },
  {
   "cell_type": "code",
   "execution_count": 2979,
   "id": "ffc6ca43-0b29-4d3e-b7bf-8ed00d31ac43",
   "metadata": {},
   "outputs": [],
   "source": [
    "level_frequency['nMarital_Status']=level_frequency.apply( lambda r: r[\"Marital_Status\"] if r[\"Porcentaje\"] >= Valor_minimo else r[\"nMarital_Status\"] , axis = 1 )"
   ]
  },
  {
   "cell_type": "code",
   "execution_count": 2980,
   "id": "bab9cfd0-d6c7-4a09-a022-dbefae97c213",
   "metadata": {},
   "outputs": [],
   "source": [
    "level_frequency_Marital_Status=level_frequency.loc[:, ['Marital_Status','nMarital_Status']]"
   ]
  },
  {
   "cell_type": "code",
   "execution_count": 2981,
   "id": "ec7e4219-0924-47bd-b5c6-071213a9706e",
   "metadata": {},
   "outputs": [],
   "source": [
    "level_frequency_Marital_Status.to_csv('nMarital_Status.csv')"
   ]
  },
  {
   "cell_type": "markdown",
   "id": "db87ae9c-cc4d-4d16-8831-e1dadf9f19ea",
   "metadata": {},
   "source": [
    "## traducciones de variable Income_Category\n",
    "### para esta variable tomamos los 3 niveles con mayor representacion de datos para que others no obtuviera la mayoria de datos"
   ]
  },
  {
   "cell_type": "code",
   "execution_count": 2982,
   "id": "69219fe7-e1a9-4b6d-88e8-937af7c5b37f",
   "metadata": {},
   "outputs": [],
   "source": [
    "level_frequency=pd.DataFrame()"
   ]
  },
  {
   "cell_type": "code",
   "execution_count": 2983,
   "id": "c8d85ee8-e2f4-437f-9c71-85dea49864ab",
   "metadata": {},
   "outputs": [],
   "source": [
    "level_frequency['Numero_Datos']= dfbank2['Income_Category'].value_counts()"
   ]
  },
  {
   "cell_type": "code",
   "execution_count": 2984,
   "id": "f58bd39e-6238-4644-9a55-5a420dd0ca67",
   "metadata": {},
   "outputs": [],
   "source": [
    "level_frequency=level_frequency.reset_index()"
   ]
  },
  {
   "cell_type": "code",
   "execution_count": 2985,
   "id": "2fafc612-e795-4479-aaa2-d7ba82bab668",
   "metadata": {},
   "outputs": [],
   "source": [
    "level_frequency.columns=('Income_Category','Numero_Datos')"
   ]
  },
  {
   "cell_type": "code",
   "execution_count": 2986,
   "id": "c219d93d-9431-4a72-9737-844d672c7199",
   "metadata": {},
   "outputs": [],
   "source": [
    "level_frequency['Porcentaje']=level_frequency['Numero_Datos']/dfbank2.shape[0]"
   ]
  },
  {
   "cell_type": "code",
   "execution_count": 2987,
   "id": "a89bbc81-a0f5-413b-b8cd-b96c70a04c5c",
   "metadata": {},
   "outputs": [],
   "source": [
    "level_frequency=level_frequency.sort_values(['Porcentaje'], ascending=False)"
   ]
  },
  {
   "cell_type": "code",
   "execution_count": 2988,
   "id": "b2472a64-2e26-4758-b4c9-9daef6781504",
   "metadata": {},
   "outputs": [],
   "source": [
    "level_frequency['nIncome_Category']='Others'"
   ]
  },
  {
   "cell_type": "code",
   "execution_count": 2989,
   "id": "440fb552-76f2-4675-8d13-7b682a256be9",
   "metadata": {},
   "outputs": [
    {
     "data": {
      "text/html": [
       "<div>\n",
       "<style scoped>\n",
       "    .dataframe tbody tr th:only-of-type {\n",
       "        vertical-align: middle;\n",
       "    }\n",
       "\n",
       "    .dataframe tbody tr th {\n",
       "        vertical-align: top;\n",
       "    }\n",
       "\n",
       "    .dataframe thead th {\n",
       "        text-align: right;\n",
       "    }\n",
       "</style>\n",
       "<table border=\"1\" class=\"dataframe\">\n",
       "  <thead>\n",
       "    <tr style=\"text-align: right;\">\n",
       "      <th></th>\n",
       "      <th>Income_Category</th>\n",
       "      <th>Numero_Datos</th>\n",
       "      <th>Porcentaje</th>\n",
       "      <th>nIncome_Category</th>\n",
       "    </tr>\n",
       "  </thead>\n",
       "  <tbody>\n",
       "    <tr>\n",
       "      <th>0</th>\n",
       "      <td>Less than $40K</td>\n",
       "      <td>3379</td>\n",
       "      <td>0.353933</td>\n",
       "      <td>Others</td>\n",
       "    </tr>\n",
       "    <tr>\n",
       "      <th>1</th>\n",
       "      <td>$40K - $60K</td>\n",
       "      <td>1704</td>\n",
       "      <td>0.178485</td>\n",
       "      <td>Others</td>\n",
       "    </tr>\n",
       "    <tr>\n",
       "      <th>2</th>\n",
       "      <td>$80K - $120K</td>\n",
       "      <td>1455</td>\n",
       "      <td>0.152404</td>\n",
       "      <td>Others</td>\n",
       "    </tr>\n",
       "    <tr>\n",
       "      <th>3</th>\n",
       "      <td>$60K - $80K</td>\n",
       "      <td>1311</td>\n",
       "      <td>0.137321</td>\n",
       "      <td>Others</td>\n",
       "    </tr>\n",
       "    <tr>\n",
       "      <th>4</th>\n",
       "      <td>Others</td>\n",
       "      <td>1028</td>\n",
       "      <td>0.107678</td>\n",
       "      <td>Others</td>\n",
       "    </tr>\n",
       "    <tr>\n",
       "      <th>5</th>\n",
       "      <td>$120K +</td>\n",
       "      <td>670</td>\n",
       "      <td>0.070179</td>\n",
       "      <td>Others</td>\n",
       "    </tr>\n",
       "  </tbody>\n",
       "</table>\n",
       "</div>"
      ],
      "text/plain": [
       "  Income_Category  Numero_Datos  Porcentaje nIncome_Category\n",
       "0  Less than $40K          3379    0.353933           Others\n",
       "1     $40K - $60K          1704    0.178485           Others\n",
       "2    $80K - $120K          1455    0.152404           Others\n",
       "3     $60K - $80K          1311    0.137321           Others\n",
       "4          Others          1028    0.107678           Others\n",
       "5         $120K +           670    0.070179           Others"
      ]
     },
     "execution_count": 2989,
     "metadata": {},
     "output_type": "execute_result"
    }
   ],
   "source": [
    "level_frequency"
   ]
  },
  {
   "cell_type": "code",
   "execution_count": 2990,
   "id": "10c9076c-5713-4a6a-840c-fd42d795c5d2",
   "metadata": {},
   "outputs": [],
   "source": [
    "Valor_minimo=level_frequency['Porcentaje'][2]"
   ]
  },
  {
   "cell_type": "code",
   "execution_count": 2991,
   "id": "f95e2897-600f-4efd-bff9-30f490e6f3ba",
   "metadata": {},
   "outputs": [],
   "source": [
    "level_frequency['nIncome_Category']=level_frequency.apply( lambda r: r[\"Income_Category\"] if r[\"Porcentaje\"] >= Valor_minimo else r[\"nIncome_Category\"] , axis = 1 )"
   ]
  },
  {
   "cell_type": "code",
   "execution_count": 2992,
   "id": "7eba0a19-6c51-4498-9e96-06cdd184753e",
   "metadata": {},
   "outputs": [],
   "source": [
    "level_frequency_Income_Category=level_frequency.loc[:, ['Income_Category','nIncome_Category']]"
   ]
  },
  {
   "cell_type": "code",
   "execution_count": 2993,
   "id": "c33fefb3-d028-4388-98e4-c3632c3128e4",
   "metadata": {},
   "outputs": [],
   "source": [
    "level_frequency_Income_Category.to_csv('Income_Category_Status.csv')"
   ]
  }
 ],
 "metadata": {
  "kernelspec": {
   "display_name": "Python 3 (ipykernel)",
   "language": "python",
   "name": "python3"
  },
  "language_info": {
   "codemirror_mode": {
    "name": "ipython",
    "version": 3
   },
   "file_extension": ".py",
   "mimetype": "text/x-python",
   "name": "python",
   "nbconvert_exporter": "python",
   "pygments_lexer": "ipython3",
   "version": "3.9.12"
  }
 },
 "nbformat": 4,
 "nbformat_minor": 5
}
